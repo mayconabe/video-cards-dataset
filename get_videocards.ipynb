{
 "cells": [
  {
   "cell_type": "code",
   "execution_count": 54,
   "metadata": {},
   "outputs": [],
   "source": [
    "# Importação das bibliotecas\n",
    "from bs4 import BeautifulSoup\n",
    "import requests\n",
    "import pandas as pd\n",
    "import plotly.graph_objects as go"
   ]
  },
  {
   "attachments": {},
   "cell_type": "markdown",
   "metadata": {},
   "source": [
    "## Dicionário de dados\n",
    "\n",
    "|   Variável            |   Função    | \n",
    "| -----------           | ----------- |\n",
    "| Modelo                | Nome completo da placa de vídeo, incluindo informações técnicas    |\n",
    "| ValorAV               | Valor à vista do produto    |\n",
    "| ValorParc             | Valor parcelado do produto    |\n",
    "| Loja                  | Nome da loja    |\n",
    "| Link                  | Link do produto    |\n",
    "| ModeloSimplificado    | Nome da placa de vídeo simplificado    |\n"
   ]
  },
  {
   "attachments": {},
   "cell_type": "markdown",
   "metadata": {},
   "source": [
    "## Extração de Dados\n",
    "\n",
    "Foi escolhida uma base de preços de placas de vídeo, onde foi feito um webscrapping utilizando a biblioteca \"requests\" e \"beautifulsoup\" do site \"placasdevideo.app.br\""
   ]
  },
  {
   "cell_type": "code",
   "execution_count": 55,
   "metadata": {},
   "outputs": [],
   "source": [
    "URL = \"http://placasdevideo.app.br/Precos.json\"\n",
    "  \n",
    "webpage = requests.get(URL)\n",
    "\n",
    "soup = BeautifulSoup(webpage.content, \"html.parser\")\n",
    "\n",
    "\n",
    "# Lendo o json extraido do site\n",
    "json = soup.prettify()"
   ]
  },
  {
   "cell_type": "code",
   "execution_count": 56,
   "metadata": {},
   "outputs": [],
   "source": [
    "# Transformando o json em um dataframe\n",
    "df = pd.read_csv('placas_de_video.csv')"
   ]
  },
  {
   "attachments": {},
   "cell_type": "markdown",
   "metadata": {},
   "source": [
    "## Limpeza dos dados\n",
    "\n",
    "Removendo dados desnecessários e substuindo valores para uma análise mais precisa do Dataframe"
   ]
  },
  {
   "cell_type": "code",
   "execution_count": 57,
   "metadata": {},
   "outputs": [
    {
     "data": {
      "text/html": [
       "<div>\n",
       "<style scoped>\n",
       "    .dataframe tbody tr th:only-of-type {\n",
       "        vertical-align: middle;\n",
       "    }\n",
       "\n",
       "    .dataframe tbody tr th {\n",
       "        vertical-align: top;\n",
       "    }\n",
       "\n",
       "    .dataframe thead th {\n",
       "        text-align: right;\n",
       "    }\n",
       "</style>\n",
       "<table border=\"1\" class=\"dataframe\">\n",
       "  <thead>\n",
       "    <tr style=\"text-align: right;\">\n",
       "      <th></th>\n",
       "      <th>Unnamed: 0</th>\n",
       "      <th>Modelo</th>\n",
       "      <th>ValorAV</th>\n",
       "      <th>ValorParc</th>\n",
       "      <th>Loja</th>\n",
       "      <th>Link</th>\n",
       "      <th>ModeloSimplificado</th>\n",
       "    </tr>\n",
       "  </thead>\n",
       "  <tbody>\n",
       "    <tr>\n",
       "      <th>0</th>\n",
       "      <td>1</td>\n",
       "      <td>Placa De Vídeo PowerColor AMD Radeon RX 6400 L...</td>\n",
       "      <td>699.90</td>\n",
       "      <td>816.00</td>\n",
       "      <td>Terabyte</td>\n",
       "      <td>https://www.terabyteshop.com.br/produto/22613/...</td>\n",
       "      <td>RX 6400</td>\n",
       "    </tr>\n",
       "    <tr>\n",
       "      <th>1</th>\n",
       "      <td>2</td>\n",
       "      <td>Placa De Vídeo Gigabyte GeForce GTX 1650 D6 OC...</td>\n",
       "      <td>799.99</td>\n",
       "      <td>936.00</td>\n",
       "      <td>Terabyte</td>\n",
       "      <td>https://www.terabyteshop.com.br/produto/25038/...</td>\n",
       "      <td>GTX 1650</td>\n",
       "    </tr>\n",
       "    <tr>\n",
       "      <th>2</th>\n",
       "      <td>3</td>\n",
       "      <td>Placa De Vídeo BRX, AMD RX 580, 8GB, GDDR 5, 2...</td>\n",
       "      <td>801.23</td>\n",
       "      <td>942.62</td>\n",
       "      <td>Kabum</td>\n",
       "      <td>https://www.awin1.com/cread.php?awinmid=17729&amp;...</td>\n",
       "      <td>RX 580</td>\n",
       "    </tr>\n",
       "    <tr>\n",
       "      <th>3</th>\n",
       "      <td>4</td>\n",
       "      <td>Placa De Vídeo Gigabyte GeForce GTX 1650 D6 OC...</td>\n",
       "      <td>849.00</td>\n",
       "      <td>996.00</td>\n",
       "      <td>Terabyte</td>\n",
       "      <td>https://www.terabyteshop.com.br/produto/25036/...</td>\n",
       "      <td>GTX 1650</td>\n",
       "    </tr>\n",
       "    <tr>\n",
       "      <th>4</th>\n",
       "      <td>5</td>\n",
       "      <td>Placa De Vídeo PowerColor Radeon RX 6500 XT, 4...</td>\n",
       "      <td>899.00</td>\n",
       "      <td>1056.00</td>\n",
       "      <td>Terabyte</td>\n",
       "      <td>https://www.terabyteshop.com.br/produto/20245/...</td>\n",
       "      <td>RX 6500XT</td>\n",
       "    </tr>\n",
       "  </tbody>\n",
       "</table>\n",
       "</div>"
      ],
      "text/plain": [
       "   Unnamed: 0                                             Modelo  ValorAV  \\\n",
       "0           1  Placa De Vídeo PowerColor AMD Radeon RX 6400 L...   699.90   \n",
       "1           2  Placa De Vídeo Gigabyte GeForce GTX 1650 D6 OC...   799.99   \n",
       "2           3  Placa De Vídeo BRX, AMD RX 580, 8GB, GDDR 5, 2...   801.23   \n",
       "3           4  Placa De Vídeo Gigabyte GeForce GTX 1650 D6 OC...   849.00   \n",
       "4           5  Placa De Vídeo PowerColor Radeon RX 6500 XT, 4...   899.00   \n",
       "\n",
       "   ValorParc      Loja                                               Link  \\\n",
       "0     816.00  Terabyte  https://www.terabyteshop.com.br/produto/22613/...   \n",
       "1     936.00  Terabyte  https://www.terabyteshop.com.br/produto/25038/...   \n",
       "2     942.62     Kabum  https://www.awin1.com/cread.php?awinmid=17729&...   \n",
       "3     996.00  Terabyte  https://www.terabyteshop.com.br/produto/25036/...   \n",
       "4    1056.00  Terabyte  https://www.terabyteshop.com.br/produto/20245/...   \n",
       "\n",
       "  ModeloSimplificado  \n",
       "0            RX 6400  \n",
       "1           GTX 1650  \n",
       "2             RX 580  \n",
       "3           GTX 1650  \n",
       "4          RX 6500XT  "
      ]
     },
     "execution_count": 57,
     "metadata": {},
     "output_type": "execute_result"
    }
   ],
   "source": [
    "# Lendo as 5 primeiras linhas do dataframe\n",
    "df.head()"
   ]
  },
  {
   "cell_type": "code",
   "execution_count": 58,
   "metadata": {},
   "outputs": [],
   "source": [
    "# Apagar primeira linha onde contem informações sobre o site e não para análise\n",
    "df = df.drop(columns=['Unnamed: 0'])"
   ]
  },
  {
   "cell_type": "code",
   "execution_count": 59,
   "metadata": {},
   "outputs": [
    {
     "data": {
      "text/html": [
       "<div>\n",
       "<style scoped>\n",
       "    .dataframe tbody tr th:only-of-type {\n",
       "        vertical-align: middle;\n",
       "    }\n",
       "\n",
       "    .dataframe tbody tr th {\n",
       "        vertical-align: top;\n",
       "    }\n",
       "\n",
       "    .dataframe thead th {\n",
       "        text-align: right;\n",
       "    }\n",
       "</style>\n",
       "<table border=\"1\" class=\"dataframe\">\n",
       "  <thead>\n",
       "    <tr style=\"text-align: right;\">\n",
       "      <th></th>\n",
       "      <th>Modelo</th>\n",
       "      <th>ValorAV</th>\n",
       "      <th>ValorParc</th>\n",
       "      <th>Loja</th>\n",
       "      <th>Link</th>\n",
       "      <th>ModeloSimplificado</th>\n",
       "    </tr>\n",
       "  </thead>\n",
       "  <tbody>\n",
       "  </tbody>\n",
       "</table>\n",
       "</div>"
      ],
      "text/plain": [
       "Empty DataFrame\n",
       "Columns: [Modelo, ValorAV, ValorParc, Loja, Link, ModeloSimplificado]\n",
       "Index: []"
      ]
     },
     "execution_count": 59,
     "metadata": {},
     "output_type": "execute_result"
    }
   ],
   "source": [
    "# Foi verificado que a coluna ValorParc possui valores 'Verificar no site', que impede a análise de dados quantitativos.\n",
    "# Por isso valor deve ser substituido por 0\n",
    "df[df['ValorParc'] == 'Verificar no site']"
   ]
  },
  {
   "cell_type": "code",
   "execution_count": 60,
   "metadata": {},
   "outputs": [
    {
     "data": {
      "text/html": [
       "<div>\n",
       "<style scoped>\n",
       "    .dataframe tbody tr th:only-of-type {\n",
       "        vertical-align: middle;\n",
       "    }\n",
       "\n",
       "    .dataframe tbody tr th {\n",
       "        vertical-align: top;\n",
       "    }\n",
       "\n",
       "    .dataframe thead th {\n",
       "        text-align: right;\n",
       "    }\n",
       "</style>\n",
       "<table border=\"1\" class=\"dataframe\">\n",
       "  <thead>\n",
       "    <tr style=\"text-align: right;\">\n",
       "      <th></th>\n",
       "      <th>Modelo</th>\n",
       "      <th>ValorAV</th>\n",
       "      <th>ValorParc</th>\n",
       "      <th>Loja</th>\n",
       "      <th>Link</th>\n",
       "      <th>ModeloSimplificado</th>\n",
       "    </tr>\n",
       "  </thead>\n",
       "  <tbody>\n",
       "    <tr>\n",
       "      <th>97</th>\n",
       "      <td>Galax PLACA DE VIDEO GEFORCE RTX 3050 EX 1-CLI...</td>\n",
       "      <td>1769.0</td>\n",
       "      <td>0.0</td>\n",
       "      <td>Amazon</td>\n",
       "      <td>https://www.amazon.com.br/Galax-PLACA-GEFORCE-...</td>\n",
       "      <td>RTX 3050</td>\n",
       "    </tr>\n",
       "    <tr>\n",
       "      <th>208</th>\n",
       "      <td>GPU NV RTX3060 8GB 1-CLICK OC GDDR6 128BITS GA...</td>\n",
       "      <td>2139.0</td>\n",
       "      <td>0.0</td>\n",
       "      <td>Amazon</td>\n",
       "      <td>https://www.amazon.com.br/RTX3060-1-CLICK-GDDR...</td>\n",
       "      <td>RTX 3060 8GB</td>\n",
       "    </tr>\n",
       "    <tr>\n",
       "      <th>224</th>\n",
       "      <td>PROCESSADOR GRAFICO MSI GEFORCE912-V397-484 (G...</td>\n",
       "      <td>2195.0</td>\n",
       "      <td>0.0</td>\n",
       "      <td>Amazon</td>\n",
       "      <td>https://www.amazon.com.br/PROCESSADOR-GRAFICO-...</td>\n",
       "      <td>RTX 3060 12GB</td>\n",
       "    </tr>\n",
       "    <tr>\n",
       "      <th>268</th>\n",
       "      <td>Placa de Vídeo Gainward - GeForce RTX 3060, 12...</td>\n",
       "      <td>2340.0</td>\n",
       "      <td>0.0</td>\n",
       "      <td>Amazon</td>\n",
       "      <td>https://www.amazon.com.br/Placa-V%C3%ADdeo-Gai...</td>\n",
       "      <td>RTX 3060 12GB</td>\n",
       "    </tr>\n",
       "    <tr>\n",
       "      <th>276</th>\n",
       "      <td>MSI Placa de Video Geforce Rtx 3060 Gaming X, ...</td>\n",
       "      <td>2399.0</td>\n",
       "      <td>0.0</td>\n",
       "      <td>Amazon</td>\n",
       "      <td>https://www.amazon.com.br/MSI-Geforce-Gaming-1...</td>\n",
       "      <td>RTX 3060 12GB</td>\n",
       "    </tr>\n",
       "    <tr>\n",
       "      <th>277</th>\n",
       "      <td>PLACA DE VIDEO PALIT GEFORCE RTX 3060 DUAL 12G...</td>\n",
       "      <td>2399.0</td>\n",
       "      <td>0.0</td>\n",
       "      <td>Amazon</td>\n",
       "      <td>https://www.amazon.com.br/PLACA-VIDEO-PALIT-GE...</td>\n",
       "      <td>RTX 3060 12GB</td>\n",
       "    </tr>\n",
       "    <tr>\n",
       "      <th>309</th>\n",
       "      <td>PLACA DE VIDEO GALAX GEFORCE RTX 2060 SUPER 1C...</td>\n",
       "      <td>2494.0</td>\n",
       "      <td>0.0</td>\n",
       "      <td>Amazon</td>\n",
       "      <td>https://www.amazon.com.br/PLACA-GEFORCE-1CLICK...</td>\n",
       "      <td>RTX 2060 Super</td>\n",
       "    </tr>\n",
       "    <tr>\n",
       "      <th>426</th>\n",
       "      <td>PLACA DE VIDEO GALAX GEFORCE RTX 3070 EX (1-CL...</td>\n",
       "      <td>4099.0</td>\n",
       "      <td>0.0</td>\n",
       "      <td>Amazon</td>\n",
       "      <td>https://www.amazon.com.br/PLACA-VIDEO-GALAX-GE...</td>\n",
       "      <td>RTX 3070</td>\n",
       "    </tr>\n",
       "    <tr>\n",
       "      <th>498</th>\n",
       "      <td>Placa de Vídeo MSI Nvidia RTX4070 12GB GAMING ...</td>\n",
       "      <td>4914.0</td>\n",
       "      <td>0.0</td>\n",
       "      <td>Amazon</td>\n",
       "      <td>https://www.amazon.com.br/Placa-MSI-Nvidia-RTX...</td>\n",
       "      <td>RTX 4070</td>\n",
       "    </tr>\n",
       "    <tr>\n",
       "      <th>509</th>\n",
       "      <td>PLACA DE VIDEO ASUS GEFORCE RTX 3080 OC TUF GA...</td>\n",
       "      <td>5077.0</td>\n",
       "      <td>0.0</td>\n",
       "      <td>Amazon</td>\n",
       "      <td>https://www.amazon.com.br/Placa-V%C3%ADdeo-GeF...</td>\n",
       "      <td>RTX 3080 10GB</td>\n",
       "    </tr>\n",
       "    <tr>\n",
       "      <th>556</th>\n",
       "      <td>GPU NV RTX3080TI 12GB SG GDDR6X 384BITS GALAX ...</td>\n",
       "      <td>5999.0</td>\n",
       "      <td>0.0</td>\n",
       "      <td>Amazon</td>\n",
       "      <td>https://www.amazon.com.br/RTX3080TI-GDDR6X-384...</td>\n",
       "      <td>RTX 3080Ti</td>\n",
       "    </tr>\n",
       "  </tbody>\n",
       "</table>\n",
       "</div>"
      ],
      "text/plain": [
       "                                                Modelo  ValorAV  ValorParc  \\\n",
       "97   Galax PLACA DE VIDEO GEFORCE RTX 3050 EX 1-CLI...   1769.0        0.0   \n",
       "208  GPU NV RTX3060 8GB 1-CLICK OC GDDR6 128BITS GA...   2139.0        0.0   \n",
       "224  PROCESSADOR GRAFICO MSI GEFORCE912-V397-484 (G...   2195.0        0.0   \n",
       "268  Placa de Vídeo Gainward - GeForce RTX 3060, 12...   2340.0        0.0   \n",
       "276  MSI Placa de Video Geforce Rtx 3060 Gaming X, ...   2399.0        0.0   \n",
       "277  PLACA DE VIDEO PALIT GEFORCE RTX 3060 DUAL 12G...   2399.0        0.0   \n",
       "309  PLACA DE VIDEO GALAX GEFORCE RTX 2060 SUPER 1C...   2494.0        0.0   \n",
       "426  PLACA DE VIDEO GALAX GEFORCE RTX 3070 EX (1-CL...   4099.0        0.0   \n",
       "498  Placa de Vídeo MSI Nvidia RTX4070 12GB GAMING ...   4914.0        0.0   \n",
       "509  PLACA DE VIDEO ASUS GEFORCE RTX 3080 OC TUF GA...   5077.0        0.0   \n",
       "556  GPU NV RTX3080TI 12GB SG GDDR6X 384BITS GALAX ...   5999.0        0.0   \n",
       "\n",
       "       Loja                                               Link  \\\n",
       "97   Amazon  https://www.amazon.com.br/Galax-PLACA-GEFORCE-...   \n",
       "208  Amazon  https://www.amazon.com.br/RTX3060-1-CLICK-GDDR...   \n",
       "224  Amazon  https://www.amazon.com.br/PROCESSADOR-GRAFICO-...   \n",
       "268  Amazon  https://www.amazon.com.br/Placa-V%C3%ADdeo-Gai...   \n",
       "276  Amazon  https://www.amazon.com.br/MSI-Geforce-Gaming-1...   \n",
       "277  Amazon  https://www.amazon.com.br/PLACA-VIDEO-PALIT-GE...   \n",
       "309  Amazon  https://www.amazon.com.br/PLACA-GEFORCE-1CLICK...   \n",
       "426  Amazon  https://www.amazon.com.br/PLACA-VIDEO-GALAX-GE...   \n",
       "498  Amazon  https://www.amazon.com.br/Placa-MSI-Nvidia-RTX...   \n",
       "509  Amazon  https://www.amazon.com.br/Placa-V%C3%ADdeo-GeF...   \n",
       "556  Amazon  https://www.amazon.com.br/RTX3080TI-GDDR6X-384...   \n",
       "\n",
       "    ModeloSimplificado  \n",
       "97            RTX 3050  \n",
       "208       RTX 3060 8GB  \n",
       "224      RTX 3060 12GB  \n",
       "268      RTX 3060 12GB  \n",
       "276      RTX 3060 12GB  \n",
       "277      RTX 3060 12GB  \n",
       "309     RTX 2060 Super  \n",
       "426           RTX 3070  \n",
       "498           RTX 4070  \n",
       "509      RTX 3080 10GB  \n",
       "556         RTX 3080Ti  "
      ]
     },
     "execution_count": 60,
     "metadata": {},
     "output_type": "execute_result"
    }
   ],
   "source": [
    "df['ValorParc'] = df['ValorParc'].replace('Verificar no site', 0)\n",
    "df[df['ValorParc'] == 0]"
   ]
  },
  {
   "cell_type": "code",
   "execution_count": 61,
   "metadata": {},
   "outputs": [
    {
     "name": "stdout",
     "output_type": "stream",
     "text": [
      "<class 'pandas.core.frame.DataFrame'>\n",
      "RangeIndex: 824 entries, 0 to 823\n",
      "Data columns (total 6 columns):\n",
      " #   Column              Non-Null Count  Dtype  \n",
      "---  ------              --------------  -----  \n",
      " 0   Modelo              824 non-null    object \n",
      " 1   ValorAV             824 non-null    float64\n",
      " 2   ValorParc           824 non-null    float64\n",
      " 3   Loja                824 non-null    object \n",
      " 4   Link                824 non-null    object \n",
      " 5   ModeloSimplificado  824 non-null    object \n",
      "dtypes: float64(2), object(4)\n",
      "memory usage: 38.8+ KB\n"
     ]
    }
   ],
   "source": [
    "df.info()"
   ]
  },
  {
   "cell_type": "code",
   "execution_count": 62,
   "metadata": {},
   "outputs": [
    {
     "data": {
      "text/plain": [
       "(824, 6)"
      ]
     },
     "execution_count": 62,
     "metadata": {},
     "output_type": "execute_result"
    }
   ],
   "source": [
    "df.shape"
   ]
  },
  {
   "attachments": {},
   "cell_type": "markdown",
   "metadata": {},
   "source": [
    "## Análise Descritiva"
   ]
  },
  {
   "cell_type": "code",
   "execution_count": 63,
   "metadata": {},
   "outputs": [
    {
     "data": {
      "text/plain": [
       "(824, 6)"
      ]
     },
     "execution_count": 63,
     "metadata": {},
     "output_type": "execute_result"
    }
   ],
   "source": [
    "media_valorparc = df.copy()\n",
    "media_valorparc.shape"
   ]
  },
  {
   "cell_type": "code",
   "execution_count": 64,
   "metadata": {},
   "outputs": [
    {
     "data": {
      "text/plain": [
       "(813, 6)"
      ]
     },
     "execution_count": 64,
     "metadata": {},
     "output_type": "execute_result"
    }
   ],
   "source": [
    "media_valorparc = media_valorparc[~(media_valorparc == 0).any(axis=1)]\n",
    "media_valorparc.shape"
   ]
  },
  {
   "cell_type": "code",
   "execution_count": 65,
   "metadata": {},
   "outputs": [],
   "source": [
    "# Calculando a diferença absoluta e percentual entre os valores de ValorAV e ValorParc\n",
    "valores = media_valorparc[['ValorAV', 'ValorParc']].describe()\n",
    "valores['diferenca'] = media_valorparc['ValorParc'].describe() - media_valorparc['ValorAV'].describe()\n",
    "valores['diferenca_em_pct'] = (media_valorparc['ValorParc'].describe() - media_valorparc['ValorAV'].describe()) / media_valorparc['ValorParc'].describe() * 100"
   ]
  },
  {
   "cell_type": "code",
   "execution_count": 66,
   "metadata": {},
   "outputs": [
    {
     "data": {
      "text/html": [
       "<div>\n",
       "<style scoped>\n",
       "    .dataframe tbody tr th:only-of-type {\n",
       "        vertical-align: middle;\n",
       "    }\n",
       "\n",
       "    .dataframe tbody tr th {\n",
       "        vertical-align: top;\n",
       "    }\n",
       "\n",
       "    .dataframe thead th {\n",
       "        text-align: right;\n",
       "    }\n",
       "</style>\n",
       "<table border=\"1\" class=\"dataframe\">\n",
       "  <thead>\n",
       "    <tr style=\"text-align: right;\">\n",
       "      <th></th>\n",
       "      <th>ValorAV</th>\n",
       "      <th>ValorParc</th>\n",
       "      <th>diferenca</th>\n",
       "      <th>diferenca_em_pct</th>\n",
       "    </tr>\n",
       "  </thead>\n",
       "  <tbody>\n",
       "    <tr>\n",
       "      <th>count</th>\n",
       "      <td>813.000000</td>\n",
       "      <td>813.000000</td>\n",
       "      <td>0.000000</td>\n",
       "      <td>0.000000</td>\n",
       "    </tr>\n",
       "    <tr>\n",
       "      <th>mean</th>\n",
       "      <td>4856.275695</td>\n",
       "      <td>5445.644133</td>\n",
       "      <td>589.368438</td>\n",
       "      <td>10.822750</td>\n",
       "    </tr>\n",
       "    <tr>\n",
       "      <th>std</th>\n",
       "      <td>3535.672764</td>\n",
       "      <td>3900.507074</td>\n",
       "      <td>364.834310</td>\n",
       "      <td>9.353510</td>\n",
       "    </tr>\n",
       "    <tr>\n",
       "      <th>min</th>\n",
       "      <td>699.900000</td>\n",
       "      <td>816.000000</td>\n",
       "      <td>116.100000</td>\n",
       "      <td>14.227941</td>\n",
       "    </tr>\n",
       "    <tr>\n",
       "      <th>25%</th>\n",
       "      <td>2099.990000</td>\n",
       "      <td>2399.990000</td>\n",
       "      <td>300.000000</td>\n",
       "      <td>12.500052</td>\n",
       "    </tr>\n",
       "    <tr>\n",
       "      <th>50%</th>\n",
       "      <td>3899.000000</td>\n",
       "      <td>4355.540000</td>\n",
       "      <td>456.540000</td>\n",
       "      <td>10.481823</td>\n",
       "    </tr>\n",
       "    <tr>\n",
       "      <th>75%</th>\n",
       "      <td>6699.000000</td>\n",
       "      <td>7623.520000</td>\n",
       "      <td>924.520000</td>\n",
       "      <td>12.127206</td>\n",
       "    </tr>\n",
       "    <tr>\n",
       "      <th>max</th>\n",
       "      <td>29699.100000</td>\n",
       "      <td>32999.000000</td>\n",
       "      <td>3299.900000</td>\n",
       "      <td>10.000000</td>\n",
       "    </tr>\n",
       "  </tbody>\n",
       "</table>\n",
       "</div>"
      ],
      "text/plain": [
       "            ValorAV     ValorParc    diferenca  diferenca_em_pct\n",
       "count    813.000000    813.000000     0.000000          0.000000\n",
       "mean    4856.275695   5445.644133   589.368438         10.822750\n",
       "std     3535.672764   3900.507074   364.834310          9.353510\n",
       "min      699.900000    816.000000   116.100000         14.227941\n",
       "25%     2099.990000   2399.990000   300.000000         12.500052\n",
       "50%     3899.000000   4355.540000   456.540000         10.481823\n",
       "75%     6699.000000   7623.520000   924.520000         12.127206\n",
       "max    29699.100000  32999.000000  3299.900000         10.000000"
      ]
     },
     "execution_count": 66,
     "metadata": {},
     "output_type": "execute_result"
    }
   ],
   "source": [
    "valores[['ValorAV', 'ValorParc', 'diferenca', 'diferenca_em_pct']]"
   ]
  },
  {
   "cell_type": "markdown",
   "metadata": {},
   "source": [
    "## Análise de Preços"
   ]
  },
  {
   "cell_type": "code",
   "execution_count": 67,
   "metadata": {},
   "outputs": [
    {
     "data": {
      "text/plain": [
       "ModeloSimplificado\n",
       "Arc A380            929.000\n",
       "Arc A750           2049.000\n",
       "Arc A770           2399.000\n",
       "GTX 1650            999.000\n",
       "GTX 1650 Super     1793.500\n",
       "GTX 1660           1607.650\n",
       "GTX 1660 Super     1599.000\n",
       "GTX 1660Ti         1599.000\n",
       "RTX 2060           2077.550\n",
       "RTX 2060 Super     2302.220\n",
       "RTX 3050           1899.375\n",
       "RTX 3060 12GB      2299.450\n",
       "RTX 3060 8GB       2079.990\n",
       "RTX 3060Ti         2593.990\n",
       "RTX 3070           3799.000\n",
       "RTX 3070Ti         4474.035\n",
       "RTX 3080 10GB      5210.455\n",
       "RTX 3080 12GB      8536.000\n",
       "RTX 3080Ti         5999.450\n",
       "RTX 3090          11399.000\n",
       "RTX 3090Ti        13141.025\n",
       "RTX 4060Ti         3699.990\n",
       "RTX 4070           4898.990\n",
       "RTX 4070Ti         6479.990\n",
       "RTX 4080           8399.000\n",
       "RTX 4090          11499.000\n",
       "RX 570             1279.495\n",
       "RX 5700XT          3500.000\n",
       "RX 580             4049.100\n",
       "RX 6400            1538.000\n",
       "RX 6500XT          1681.135\n",
       "RX 6600            1580.245\n",
       "RX 6600XT          3153.995\n",
       "RX 6650XT          2279.990\n",
       "RX 6700XT          2749.990\n",
       "RX 6750XT          2999.990\n",
       "RX 6800            5799.000\n",
       "RX 6800XT          6499.000\n",
       "RX 6900XT          7745.330\n",
       "RX 7600            2443.030\n",
       "RX 7900 XT         6599.000\n",
       "RX 7900 XTX        7664.495\n",
       "Name: ValorAV, dtype: float64"
      ]
     },
     "execution_count": 67,
     "metadata": {},
     "output_type": "execute_result"
    }
   ],
   "source": [
    "# Agrupando os dados por 'Modelo' e calculando a média e mediana dos valores para identificar quais modelos são mais caros ou mais baratos.\n",
    "\n",
    "agrupamento = df.groupby('ModeloSimplificado')['ValorAV']\n",
    "agrupamento.median()"
   ]
  },
  {
   "cell_type": "code",
   "execution_count": 68,
   "metadata": {},
   "outputs": [
    {
     "data": {
      "text/plain": [
       "ModeloSimplificado\n",
       "Arc A380            929.000000\n",
       "Arc A750           2049.000000\n",
       "Arc A770           2399.000000\n",
       "GTX 1650            987.697500\n",
       "GTX 1650 Super     1886.524000\n",
       "GTX 1660           1563.242500\n",
       "GTX 1660 Super     1605.919412\n",
       "GTX 1660Ti         1595.225000\n",
       "RTX 2060           2075.744667\n",
       "RTX 2060 Super     2509.884286\n",
       "RTX 3050           1883.264231\n",
       "RTX 3060 12GB      2285.580143\n",
       "RTX 3060 8GB       2055.605556\n",
       "RTX 3060Ti         2532.150217\n",
       "RTX 3070           3846.957368\n",
       "RTX 3070Ti         4410.103333\n",
       "RTX 3080 10GB      5214.305833\n",
       "RTX 3080 12GB      9107.819412\n",
       "RTX 3080Ti         5839.480000\n",
       "RTX 3090          14251.922667\n",
       "RTX 3090Ti        13202.341667\n",
       "RTX 4060Ti         3601.227222\n",
       "RTX 4070           4816.926667\n",
       "RTX 4070Ti         6468.631325\n",
       "RTX 4080           8407.567119\n",
       "RTX 4090          11652.237674\n",
       "RX 570             1310.378333\n",
       "RX 5700XT          3500.000000\n",
       "RX 580             3324.663000\n",
       "RX 6400            1770.643846\n",
       "RX 6500XT          1788.154583\n",
       "RX 6600            1568.640714\n",
       "RX 6600XT          3167.669000\n",
       "RX 6650XT          2396.428667\n",
       "RX 6700XT          2706.983333\n",
       "RX 6750XT          3104.983333\n",
       "RX 6800            6536.646000\n",
       "RX 6800XT          6596.642000\n",
       "RX 6900XT          9366.492500\n",
       "RX 7600            2398.325000\n",
       "RX 7900 XT         7224.027895\n",
       "RX 7900 XTX        8005.747500\n",
       "Name: ValorAV, dtype: float64"
      ]
     },
     "execution_count": 68,
     "metadata": {},
     "output_type": "execute_result"
    }
   ],
   "source": [
    "agrupamento.mean()"
   ]
  },
  {
   "cell_type": "code",
   "execution_count": 69,
   "metadata": {},
   "outputs": [
    {
     "data": {
      "application/vnd.plotly.v1+json": {
       "config": {
        "plotlyServerURL": "https://plot.ly"
       },
       "data": [
        {
         "type": "bar",
         "x": [
          "RTX 3090",
          "RTX 3090Ti",
          "RTX 4090",
          "RX 6900XT",
          "RTX 3080 12GB",
          "RTX 4080",
          "RX 7900 XTX",
          "RX 7900 XT",
          "RX 6800XT",
          "RX 6800",
          "RTX 4070Ti",
          "RTX 3080Ti",
          "RTX 3080 10GB",
          "RTX 4070",
          "RTX 3070Ti",
          "RTX 3070",
          "RTX 4060Ti",
          "RX 5700XT",
          "RX 580",
          "RX 6600XT",
          "RX 6750XT",
          "RX 6700XT",
          "RTX 3060Ti",
          "RTX 2060 Super",
          "Arc A770",
          "RX 7600",
          "RX 6650XT",
          "RTX 3060 12GB",
          "RTX 2060",
          "RTX 3060 8GB",
          "Arc A750",
          "GTX 1650 Super",
          "RTX 3050",
          "RX 6500XT",
          "RX 6400",
          "GTX 1660 Super",
          "GTX 1660Ti",
          "RX 6600",
          "GTX 1660",
          "RX 570",
          "GTX 1650",
          "Arc A380"
         ],
         "y": [
          14251.922666666667,
          13202.341666666667,
          11652.237674418604,
          9366.4925,
          9107.819411764705,
          8407.567118644069,
          8005.7475,
          7224.027894736842,
          6596.642,
          6536.646,
          6468.631325301205,
          5839.48,
          5214.305833333333,
          4816.926666666667,
          4410.1033333333335,
          3846.9573684210527,
          3601.227222222222,
          3500,
          3324.6630000000005,
          3167.669,
          3104.983333333333,
          2706.983333333333,
          2532.150217391304,
          2509.8842857142854,
          2399,
          2398.325,
          2396.4286666666667,
          2285.5801428571426,
          2075.744666666667,
          2055.6055555555554,
          2049,
          1886.5240000000001,
          1883.2642307692308,
          1788.1545833333332,
          1770.643846153846,
          1605.919411764706,
          1595.225,
          1568.6407142857145,
          1563.2425,
          1310.3783333333333,
          987.6975,
          929
         ]
        }
       ],
       "layout": {
        "template": {
         "data": {
          "bar": [
           {
            "error_x": {
             "color": "#f2f5fa"
            },
            "error_y": {
             "color": "#f2f5fa"
            },
            "marker": {
             "line": {
              "color": "rgb(17,17,17)",
              "width": 0.5
             },
             "pattern": {
              "fillmode": "overlay",
              "size": 10,
              "solidity": 0.2
             }
            },
            "type": "bar"
           }
          ],
          "barpolar": [
           {
            "marker": {
             "line": {
              "color": "rgb(17,17,17)",
              "width": 0.5
             },
             "pattern": {
              "fillmode": "overlay",
              "size": 10,
              "solidity": 0.2
             }
            },
            "type": "barpolar"
           }
          ],
          "carpet": [
           {
            "aaxis": {
             "endlinecolor": "#A2B1C6",
             "gridcolor": "#506784",
             "linecolor": "#506784",
             "minorgridcolor": "#506784",
             "startlinecolor": "#A2B1C6"
            },
            "baxis": {
             "endlinecolor": "#A2B1C6",
             "gridcolor": "#506784",
             "linecolor": "#506784",
             "minorgridcolor": "#506784",
             "startlinecolor": "#A2B1C6"
            },
            "type": "carpet"
           }
          ],
          "choropleth": [
           {
            "colorbar": {
             "outlinewidth": 0,
             "ticks": ""
            },
            "type": "choropleth"
           }
          ],
          "contour": [
           {
            "colorbar": {
             "outlinewidth": 0,
             "ticks": ""
            },
            "colorscale": [
             [
              0,
              "#0d0887"
             ],
             [
              0.1111111111111111,
              "#46039f"
             ],
             [
              0.2222222222222222,
              "#7201a8"
             ],
             [
              0.3333333333333333,
              "#9c179e"
             ],
             [
              0.4444444444444444,
              "#bd3786"
             ],
             [
              0.5555555555555556,
              "#d8576b"
             ],
             [
              0.6666666666666666,
              "#ed7953"
             ],
             [
              0.7777777777777778,
              "#fb9f3a"
             ],
             [
              0.8888888888888888,
              "#fdca26"
             ],
             [
              1,
              "#f0f921"
             ]
            ],
            "type": "contour"
           }
          ],
          "contourcarpet": [
           {
            "colorbar": {
             "outlinewidth": 0,
             "ticks": ""
            },
            "type": "contourcarpet"
           }
          ],
          "heatmap": [
           {
            "colorbar": {
             "outlinewidth": 0,
             "ticks": ""
            },
            "colorscale": [
             [
              0,
              "#0d0887"
             ],
             [
              0.1111111111111111,
              "#46039f"
             ],
             [
              0.2222222222222222,
              "#7201a8"
             ],
             [
              0.3333333333333333,
              "#9c179e"
             ],
             [
              0.4444444444444444,
              "#bd3786"
             ],
             [
              0.5555555555555556,
              "#d8576b"
             ],
             [
              0.6666666666666666,
              "#ed7953"
             ],
             [
              0.7777777777777778,
              "#fb9f3a"
             ],
             [
              0.8888888888888888,
              "#fdca26"
             ],
             [
              1,
              "#f0f921"
             ]
            ],
            "type": "heatmap"
           }
          ],
          "heatmapgl": [
           {
            "colorbar": {
             "outlinewidth": 0,
             "ticks": ""
            },
            "colorscale": [
             [
              0,
              "#0d0887"
             ],
             [
              0.1111111111111111,
              "#46039f"
             ],
             [
              0.2222222222222222,
              "#7201a8"
             ],
             [
              0.3333333333333333,
              "#9c179e"
             ],
             [
              0.4444444444444444,
              "#bd3786"
             ],
             [
              0.5555555555555556,
              "#d8576b"
             ],
             [
              0.6666666666666666,
              "#ed7953"
             ],
             [
              0.7777777777777778,
              "#fb9f3a"
             ],
             [
              0.8888888888888888,
              "#fdca26"
             ],
             [
              1,
              "#f0f921"
             ]
            ],
            "type": "heatmapgl"
           }
          ],
          "histogram": [
           {
            "marker": {
             "pattern": {
              "fillmode": "overlay",
              "size": 10,
              "solidity": 0.2
             }
            },
            "type": "histogram"
           }
          ],
          "histogram2d": [
           {
            "colorbar": {
             "outlinewidth": 0,
             "ticks": ""
            },
            "colorscale": [
             [
              0,
              "#0d0887"
             ],
             [
              0.1111111111111111,
              "#46039f"
             ],
             [
              0.2222222222222222,
              "#7201a8"
             ],
             [
              0.3333333333333333,
              "#9c179e"
             ],
             [
              0.4444444444444444,
              "#bd3786"
             ],
             [
              0.5555555555555556,
              "#d8576b"
             ],
             [
              0.6666666666666666,
              "#ed7953"
             ],
             [
              0.7777777777777778,
              "#fb9f3a"
             ],
             [
              0.8888888888888888,
              "#fdca26"
             ],
             [
              1,
              "#f0f921"
             ]
            ],
            "type": "histogram2d"
           }
          ],
          "histogram2dcontour": [
           {
            "colorbar": {
             "outlinewidth": 0,
             "ticks": ""
            },
            "colorscale": [
             [
              0,
              "#0d0887"
             ],
             [
              0.1111111111111111,
              "#46039f"
             ],
             [
              0.2222222222222222,
              "#7201a8"
             ],
             [
              0.3333333333333333,
              "#9c179e"
             ],
             [
              0.4444444444444444,
              "#bd3786"
             ],
             [
              0.5555555555555556,
              "#d8576b"
             ],
             [
              0.6666666666666666,
              "#ed7953"
             ],
             [
              0.7777777777777778,
              "#fb9f3a"
             ],
             [
              0.8888888888888888,
              "#fdca26"
             ],
             [
              1,
              "#f0f921"
             ]
            ],
            "type": "histogram2dcontour"
           }
          ],
          "mesh3d": [
           {
            "colorbar": {
             "outlinewidth": 0,
             "ticks": ""
            },
            "type": "mesh3d"
           }
          ],
          "parcoords": [
           {
            "line": {
             "colorbar": {
              "outlinewidth": 0,
              "ticks": ""
             }
            },
            "type": "parcoords"
           }
          ],
          "pie": [
           {
            "automargin": true,
            "type": "pie"
           }
          ],
          "scatter": [
           {
            "marker": {
             "line": {
              "color": "#283442"
             }
            },
            "type": "scatter"
           }
          ],
          "scatter3d": [
           {
            "line": {
             "colorbar": {
              "outlinewidth": 0,
              "ticks": ""
             }
            },
            "marker": {
             "colorbar": {
              "outlinewidth": 0,
              "ticks": ""
             }
            },
            "type": "scatter3d"
           }
          ],
          "scattercarpet": [
           {
            "marker": {
             "colorbar": {
              "outlinewidth": 0,
              "ticks": ""
             }
            },
            "type": "scattercarpet"
           }
          ],
          "scattergeo": [
           {
            "marker": {
             "colorbar": {
              "outlinewidth": 0,
              "ticks": ""
             }
            },
            "type": "scattergeo"
           }
          ],
          "scattergl": [
           {
            "marker": {
             "line": {
              "color": "#283442"
             }
            },
            "type": "scattergl"
           }
          ],
          "scattermapbox": [
           {
            "marker": {
             "colorbar": {
              "outlinewidth": 0,
              "ticks": ""
             }
            },
            "type": "scattermapbox"
           }
          ],
          "scatterpolar": [
           {
            "marker": {
             "colorbar": {
              "outlinewidth": 0,
              "ticks": ""
             }
            },
            "type": "scatterpolar"
           }
          ],
          "scatterpolargl": [
           {
            "marker": {
             "colorbar": {
              "outlinewidth": 0,
              "ticks": ""
             }
            },
            "type": "scatterpolargl"
           }
          ],
          "scatterternary": [
           {
            "marker": {
             "colorbar": {
              "outlinewidth": 0,
              "ticks": ""
             }
            },
            "type": "scatterternary"
           }
          ],
          "surface": [
           {
            "colorbar": {
             "outlinewidth": 0,
             "ticks": ""
            },
            "colorscale": [
             [
              0,
              "#0d0887"
             ],
             [
              0.1111111111111111,
              "#46039f"
             ],
             [
              0.2222222222222222,
              "#7201a8"
             ],
             [
              0.3333333333333333,
              "#9c179e"
             ],
             [
              0.4444444444444444,
              "#bd3786"
             ],
             [
              0.5555555555555556,
              "#d8576b"
             ],
             [
              0.6666666666666666,
              "#ed7953"
             ],
             [
              0.7777777777777778,
              "#fb9f3a"
             ],
             [
              0.8888888888888888,
              "#fdca26"
             ],
             [
              1,
              "#f0f921"
             ]
            ],
            "type": "surface"
           }
          ],
          "table": [
           {
            "cells": {
             "fill": {
              "color": "#506784"
             },
             "line": {
              "color": "rgb(17,17,17)"
             }
            },
            "header": {
             "fill": {
              "color": "#2a3f5f"
             },
             "line": {
              "color": "rgb(17,17,17)"
             }
            },
            "type": "table"
           }
          ]
         },
         "layout": {
          "annotationdefaults": {
           "arrowcolor": "#f2f5fa",
           "arrowhead": 0,
           "arrowwidth": 1
          },
          "autotypenumbers": "strict",
          "coloraxis": {
           "colorbar": {
            "outlinewidth": 0,
            "ticks": ""
           }
          },
          "colorscale": {
           "diverging": [
            [
             0,
             "#8e0152"
            ],
            [
             0.1,
             "#c51b7d"
            ],
            [
             0.2,
             "#de77ae"
            ],
            [
             0.3,
             "#f1b6da"
            ],
            [
             0.4,
             "#fde0ef"
            ],
            [
             0.5,
             "#f7f7f7"
            ],
            [
             0.6,
             "#e6f5d0"
            ],
            [
             0.7,
             "#b8e186"
            ],
            [
             0.8,
             "#7fbc41"
            ],
            [
             0.9,
             "#4d9221"
            ],
            [
             1,
             "#276419"
            ]
           ],
           "sequential": [
            [
             0,
             "#0d0887"
            ],
            [
             0.1111111111111111,
             "#46039f"
            ],
            [
             0.2222222222222222,
             "#7201a8"
            ],
            [
             0.3333333333333333,
             "#9c179e"
            ],
            [
             0.4444444444444444,
             "#bd3786"
            ],
            [
             0.5555555555555556,
             "#d8576b"
            ],
            [
             0.6666666666666666,
             "#ed7953"
            ],
            [
             0.7777777777777778,
             "#fb9f3a"
            ],
            [
             0.8888888888888888,
             "#fdca26"
            ],
            [
             1,
             "#f0f921"
            ]
           ],
           "sequentialminus": [
            [
             0,
             "#0d0887"
            ],
            [
             0.1111111111111111,
             "#46039f"
            ],
            [
             0.2222222222222222,
             "#7201a8"
            ],
            [
             0.3333333333333333,
             "#9c179e"
            ],
            [
             0.4444444444444444,
             "#bd3786"
            ],
            [
             0.5555555555555556,
             "#d8576b"
            ],
            [
             0.6666666666666666,
             "#ed7953"
            ],
            [
             0.7777777777777778,
             "#fb9f3a"
            ],
            [
             0.8888888888888888,
             "#fdca26"
            ],
            [
             1,
             "#f0f921"
            ]
           ]
          },
          "colorway": [
           "#636efa",
           "#EF553B",
           "#00cc96",
           "#ab63fa",
           "#FFA15A",
           "#19d3f3",
           "#FF6692",
           "#B6E880",
           "#FF97FF",
           "#FECB52"
          ],
          "font": {
           "color": "#f2f5fa"
          },
          "geo": {
           "bgcolor": "rgb(17,17,17)",
           "lakecolor": "rgb(17,17,17)",
           "landcolor": "rgb(17,17,17)",
           "showlakes": true,
           "showland": true,
           "subunitcolor": "#506784"
          },
          "hoverlabel": {
           "align": "left"
          },
          "hovermode": "closest",
          "mapbox": {
           "style": "dark"
          },
          "paper_bgcolor": "rgb(17,17,17)",
          "plot_bgcolor": "rgb(17,17,17)",
          "polar": {
           "angularaxis": {
            "gridcolor": "#506784",
            "linecolor": "#506784",
            "ticks": ""
           },
           "bgcolor": "rgb(17,17,17)",
           "radialaxis": {
            "gridcolor": "#506784",
            "linecolor": "#506784",
            "ticks": ""
           }
          },
          "scene": {
           "xaxis": {
            "backgroundcolor": "rgb(17,17,17)",
            "gridcolor": "#506784",
            "gridwidth": 2,
            "linecolor": "#506784",
            "showbackground": true,
            "ticks": "",
            "zerolinecolor": "#C8D4E3"
           },
           "yaxis": {
            "backgroundcolor": "rgb(17,17,17)",
            "gridcolor": "#506784",
            "gridwidth": 2,
            "linecolor": "#506784",
            "showbackground": true,
            "ticks": "",
            "zerolinecolor": "#C8D4E3"
           },
           "zaxis": {
            "backgroundcolor": "rgb(17,17,17)",
            "gridcolor": "#506784",
            "gridwidth": 2,
            "linecolor": "#506784",
            "showbackground": true,
            "ticks": "",
            "zerolinecolor": "#C8D4E3"
           }
          },
          "shapedefaults": {
           "line": {
            "color": "#f2f5fa"
           }
          },
          "sliderdefaults": {
           "bgcolor": "#C8D4E3",
           "bordercolor": "rgb(17,17,17)",
           "borderwidth": 1,
           "tickwidth": 0
          },
          "ternary": {
           "aaxis": {
            "gridcolor": "#506784",
            "linecolor": "#506784",
            "ticks": ""
           },
           "baxis": {
            "gridcolor": "#506784",
            "linecolor": "#506784",
            "ticks": ""
           },
           "bgcolor": "rgb(17,17,17)",
           "caxis": {
            "gridcolor": "#506784",
            "linecolor": "#506784",
            "ticks": ""
           }
          },
          "title": {
           "x": 0.05
          },
          "updatemenudefaults": {
           "bgcolor": "#506784",
           "borderwidth": 0
          },
          "xaxis": {
           "automargin": true,
           "gridcolor": "#283442",
           "linecolor": "#506784",
           "ticks": "",
           "title": {
            "standoff": 15
           },
           "zerolinecolor": "#283442",
           "zerolinewidth": 2
          },
          "yaxis": {
           "automargin": true,
           "gridcolor": "#283442",
           "linecolor": "#506784",
           "ticks": "",
           "title": {
            "standoff": 15
           },
           "zerolinecolor": "#283442",
           "zerolinewidth": 2
          }
         }
        },
        "title": {
         "text": "Média dos Preços das Placas de Vídeo"
        },
        "xaxis": {
         "tickangle": -45,
         "title": {
          "text": "Placas de Vídeo"
         }
        },
        "yaxis": {
         "title": {
          "text": "Valor à Vista (R$)"
         }
        }
       }
      }
     },
     "metadata": {},
     "output_type": "display_data"
    }
   ],
   "source": [
    "# Agrupar os dados pela coluna \"Placa de Video\" e calcular a média dos preços\n",
    "media_precos = df.groupby('ModeloSimplificado')['ValorAV'].mean().reset_index()\n",
    "\n",
    "media_precos = media_precos.sort_values(by='ValorAV', ascending=False)\n",
    "\n",
    "# Criar o gráfico de barras com as médias dos preços\n",
    "fig = go.Figure(data=go.Bar(x=media_precos['ModeloSimplificado'], y=media_precos['ValorAV']))\n",
    "\n",
    "# Personalizar o layout do gráfico\n",
    "fig.update_layout(\n",
    "    title='Média dos Preços das Placas de Vídeo',\n",
    "    xaxis_title='Placas de Vídeo',\n",
    "    yaxis_title='Valor à Vista (R$)',\n",
    "    xaxis_tickangle=-45,\n",
    "    template='plotly_dark'\n",
    ")\n",
    "\n",
    "fig.show()"
   ]
  },
  {
   "attachments": {},
   "cell_type": "markdown",
   "metadata": {},
   "source": [
    "Analisando o gráfico de média de preços, foi possível perceber que as placas de vídeo da NVIDIA \"RTX 3090\" e \"RTX 3090Ti\" lideram o ranking de preço. Isso é meio estranho, visto que, ela é mais antiga e pior do que a \"RTX 4090\".\n",
    "\n",
    "O mesmo acontece com a AMD, onde a \"RX 6900XT\" tem o preço maior."
   ]
  },
  {
   "cell_type": "code",
   "execution_count": 70,
   "metadata": {},
   "outputs": [
    {
     "data": {
      "text/html": [
       "<div>\n",
       "<style scoped>\n",
       "    .dataframe tbody tr th:only-of-type {\n",
       "        vertical-align: middle;\n",
       "    }\n",
       "\n",
       "    .dataframe tbody tr th {\n",
       "        vertical-align: top;\n",
       "    }\n",
       "\n",
       "    .dataframe thead th {\n",
       "        text-align: right;\n",
       "    }\n",
       "</style>\n",
       "<table border=\"1\" class=\"dataframe\">\n",
       "  <thead>\n",
       "    <tr style=\"text-align: right;\">\n",
       "      <th></th>\n",
       "      <th>ModeloSimplificado</th>\n",
       "      <th>Loja</th>\n",
       "      <th>ValorAV</th>\n",
       "      <th>ValorParc</th>\n",
       "    </tr>\n",
       "  </thead>\n",
       "  <tbody>\n",
       "    <tr>\n",
       "      <th>524</th>\n",
       "      <td>RX 6900XT</td>\n",
       "      <td>MagaLu</td>\n",
       "      <td>5300.91</td>\n",
       "      <td>5699.90</td>\n",
       "    </tr>\n",
       "    <tr>\n",
       "      <th>821</th>\n",
       "      <td>RX 6900XT</td>\n",
       "      <td>Amazon</td>\n",
       "      <td>23611.00</td>\n",
       "      <td>23611.70</td>\n",
       "    </tr>\n",
       "    <tr>\n",
       "      <th>805</th>\n",
       "      <td>RX 6900XT</td>\n",
       "      <td>MagaLu</td>\n",
       "      <td>13400.27</td>\n",
       "      <td>13400.27</td>\n",
       "    </tr>\n",
       "    <tr>\n",
       "      <th>767</th>\n",
       "      <td>RX 6900XT</td>\n",
       "      <td>MagaLu</td>\n",
       "      <td>10874.54</td>\n",
       "      <td>11446.88</td>\n",
       "    </tr>\n",
       "    <tr>\n",
       "      <th>544</th>\n",
       "      <td>RX 6900XT</td>\n",
       "      <td>Kabum</td>\n",
       "      <td>5826.51</td>\n",
       "      <td>6473.90</td>\n",
       "    </tr>\n",
       "    <tr>\n",
       "      <th>753</th>\n",
       "      <td>RX 6900XT</td>\n",
       "      <td>MagaLu</td>\n",
       "      <td>9999.99</td>\n",
       "      <td>9999.99</td>\n",
       "    </tr>\n",
       "    <tr>\n",
       "      <th>743</th>\n",
       "      <td>RX 6900XT</td>\n",
       "      <td>MagaLu</td>\n",
       "      <td>9399.90</td>\n",
       "      <td>9399.90</td>\n",
       "    </tr>\n",
       "    <tr>\n",
       "      <th>696</th>\n",
       "      <td>RX 6900XT</td>\n",
       "      <td>MagaLu</td>\n",
       "      <td>8336.66</td>\n",
       "      <td>8336.66</td>\n",
       "    </tr>\n",
       "    <tr>\n",
       "      <th>720</th>\n",
       "      <td>RX 6900XT</td>\n",
       "      <td>Amazon</td>\n",
       "      <td>8640.00</td>\n",
       "      <td>8640.90</td>\n",
       "    </tr>\n",
       "    <tr>\n",
       "      <th>580</th>\n",
       "      <td>RX 6900XT</td>\n",
       "      <td>MagaLu</td>\n",
       "      <td>6344.59</td>\n",
       "      <td>6344.59</td>\n",
       "    </tr>\n",
       "    <tr>\n",
       "      <th>613</th>\n",
       "      <td>RX 6900XT</td>\n",
       "      <td>MagaLu</td>\n",
       "      <td>6586.65</td>\n",
       "      <td>7400.73</td>\n",
       "    </tr>\n",
       "    <tr>\n",
       "      <th>551</th>\n",
       "      <td>RX 6900XT</td>\n",
       "      <td>MagaLu</td>\n",
       "      <td>5913.20</td>\n",
       "      <td>6644.05</td>\n",
       "    </tr>\n",
       "    <tr>\n",
       "      <th>554</th>\n",
       "      <td>RX 6900XT</td>\n",
       "      <td>Kabum</td>\n",
       "      <td>5976.66</td>\n",
       "      <td>6640.73</td>\n",
       "    </tr>\n",
       "    <tr>\n",
       "      <th>647</th>\n",
       "      <td>RX 6900XT</td>\n",
       "      <td>Amazon</td>\n",
       "      <td>7154.00</td>\n",
       "      <td>7154.40</td>\n",
       "    </tr>\n",
       "    <tr>\n",
       "      <th>604</th>\n",
       "      <td>RX 6900XT</td>\n",
       "      <td>Amazon</td>\n",
       "      <td>6499.00</td>\n",
       "      <td>6499.00</td>\n",
       "    </tr>\n",
       "    <tr>\n",
       "      <th>815</th>\n",
       "      <td>RX 6900XT</td>\n",
       "      <td>Amazon</td>\n",
       "      <td>16000.00</td>\n",
       "      <td>16000.00</td>\n",
       "    </tr>\n",
       "    <tr>\n",
       "      <th>730</th>\n",
       "      <td>RTX 3090Ti</td>\n",
       "      <td>Amazon</td>\n",
       "      <td>8941.00</td>\n",
       "      <td>8941.70</td>\n",
       "    </tr>\n",
       "    <tr>\n",
       "      <th>814</th>\n",
       "      <td>RTX 3090Ti</td>\n",
       "      <td>Kabum</td>\n",
       "      <td>15990.00</td>\n",
       "      <td>15990.00</td>\n",
       "    </tr>\n",
       "    <tr>\n",
       "      <th>816</th>\n",
       "      <td>RTX 3090Ti</td>\n",
       "      <td>Amazon</td>\n",
       "      <td>16002.00</td>\n",
       "      <td>16002.60</td>\n",
       "    </tr>\n",
       "    <tr>\n",
       "      <th>791</th>\n",
       "      <td>RTX 3090Ti</td>\n",
       "      <td>Amazon</td>\n",
       "      <td>11999.00</td>\n",
       "      <td>11999.00</td>\n",
       "    </tr>\n",
       "    <tr>\n",
       "      <th>799</th>\n",
       "      <td>RTX 3090Ti</td>\n",
       "      <td>Imperiums</td>\n",
       "      <td>12683.05</td>\n",
       "      <td>14921.24</td>\n",
       "    </tr>\n",
       "    <tr>\n",
       "      <th>808</th>\n",
       "      <td>RTX 3090Ti</td>\n",
       "      <td>Kabum</td>\n",
       "      <td>13599.00</td>\n",
       "      <td>13599.00</td>\n",
       "    </tr>\n",
       "    <tr>\n",
       "      <th>818</th>\n",
       "      <td>RTX 3090</td>\n",
       "      <td>Amazon</td>\n",
       "      <td>16245.00</td>\n",
       "      <td>16246.70</td>\n",
       "    </tr>\n",
       "    <tr>\n",
       "      <th>819</th>\n",
       "      <td>RTX 3090</td>\n",
       "      <td>Amazon</td>\n",
       "      <td>16506.00</td>\n",
       "      <td>16506.70</td>\n",
       "    </tr>\n",
       "    <tr>\n",
       "      <th>817</th>\n",
       "      <td>RTX 3090</td>\n",
       "      <td>Kabum</td>\n",
       "      <td>16149.99</td>\n",
       "      <td>19999.99</td>\n",
       "    </tr>\n",
       "    <tr>\n",
       "      <th>820</th>\n",
       "      <td>RTX 3090</td>\n",
       "      <td>MagaLu</td>\n",
       "      <td>21425.31</td>\n",
       "      <td>23805.90</td>\n",
       "    </tr>\n",
       "    <tr>\n",
       "      <th>822</th>\n",
       "      <td>RTX 3090</td>\n",
       "      <td>Amazon</td>\n",
       "      <td>23940.00</td>\n",
       "      <td>23940.90</td>\n",
       "    </tr>\n",
       "    <tr>\n",
       "      <th>757</th>\n",
       "      <td>RTX 3090</td>\n",
       "      <td>Imperiums</td>\n",
       "      <td>10377.99</td>\n",
       "      <td>12209.40</td>\n",
       "    </tr>\n",
       "    <tr>\n",
       "      <th>812</th>\n",
       "      <td>RTX 3090</td>\n",
       "      <td>MagaLu</td>\n",
       "      <td>14500.00</td>\n",
       "      <td>14500.00</td>\n",
       "    </tr>\n",
       "    <tr>\n",
       "      <th>777</th>\n",
       "      <td>RTX 3090</td>\n",
       "      <td>Amazon</td>\n",
       "      <td>11399.00</td>\n",
       "      <td>11399.00</td>\n",
       "    </tr>\n",
       "    <tr>\n",
       "      <th>773</th>\n",
       "      <td>RTX 3090</td>\n",
       "      <td>Amazon</td>\n",
       "      <td>11234.00</td>\n",
       "      <td>11234.90</td>\n",
       "    </tr>\n",
       "    <tr>\n",
       "      <th>749</th>\n",
       "      <td>RTX 3090</td>\n",
       "      <td>Amazon</td>\n",
       "      <td>9599.00</td>\n",
       "      <td>9599.00</td>\n",
       "    </tr>\n",
       "    <tr>\n",
       "      <th>711</th>\n",
       "      <td>RTX 3090</td>\n",
       "      <td>ITX Gamer</td>\n",
       "      <td>8499.15</td>\n",
       "      <td>9999.00</td>\n",
       "    </tr>\n",
       "    <tr>\n",
       "      <th>708</th>\n",
       "      <td>RTX 3090</td>\n",
       "      <td>ITX Gamer</td>\n",
       "      <td>8481.30</td>\n",
       "      <td>9978.00</td>\n",
       "    </tr>\n",
       "    <tr>\n",
       "      <th>695</th>\n",
       "      <td>RTX 3090</td>\n",
       "      <td>ITX Gamer</td>\n",
       "      <td>8299.00</td>\n",
       "      <td>9763.53</td>\n",
       "    </tr>\n",
       "    <tr>\n",
       "      <th>660</th>\n",
       "      <td>RTX 3090</td>\n",
       "      <td>Amazon</td>\n",
       "      <td>7424.00</td>\n",
       "      <td>7425.20</td>\n",
       "    </tr>\n",
       "    <tr>\n",
       "      <th>823</th>\n",
       "      <td>RTX 3090</td>\n",
       "      <td>MagaLu</td>\n",
       "      <td>29699.10</td>\n",
       "      <td>32999.00</td>\n",
       "    </tr>\n",
       "  </tbody>\n",
       "</table>\n",
       "</div>"
      ],
      "text/plain": [
       "    ModeloSimplificado       Loja   ValorAV  ValorParc\n",
       "524          RX 6900XT     MagaLu   5300.91    5699.90\n",
       "821          RX 6900XT     Amazon  23611.00   23611.70\n",
       "805          RX 6900XT     MagaLu  13400.27   13400.27\n",
       "767          RX 6900XT     MagaLu  10874.54   11446.88\n",
       "544          RX 6900XT      Kabum   5826.51    6473.90\n",
       "753          RX 6900XT     MagaLu   9999.99    9999.99\n",
       "743          RX 6900XT     MagaLu   9399.90    9399.90\n",
       "696          RX 6900XT     MagaLu   8336.66    8336.66\n",
       "720          RX 6900XT     Amazon   8640.00    8640.90\n",
       "580          RX 6900XT     MagaLu   6344.59    6344.59\n",
       "613          RX 6900XT     MagaLu   6586.65    7400.73\n",
       "551          RX 6900XT     MagaLu   5913.20    6644.05\n",
       "554          RX 6900XT      Kabum   5976.66    6640.73\n",
       "647          RX 6900XT     Amazon   7154.00    7154.40\n",
       "604          RX 6900XT     Amazon   6499.00    6499.00\n",
       "815          RX 6900XT     Amazon  16000.00   16000.00\n",
       "730         RTX 3090Ti     Amazon   8941.00    8941.70\n",
       "814         RTX 3090Ti      Kabum  15990.00   15990.00\n",
       "816         RTX 3090Ti     Amazon  16002.00   16002.60\n",
       "791         RTX 3090Ti     Amazon  11999.00   11999.00\n",
       "799         RTX 3090Ti  Imperiums  12683.05   14921.24\n",
       "808         RTX 3090Ti      Kabum  13599.00   13599.00\n",
       "818           RTX 3090     Amazon  16245.00   16246.70\n",
       "819           RTX 3090     Amazon  16506.00   16506.70\n",
       "817           RTX 3090      Kabum  16149.99   19999.99\n",
       "820           RTX 3090     MagaLu  21425.31   23805.90\n",
       "822           RTX 3090     Amazon  23940.00   23940.90\n",
       "757           RTX 3090  Imperiums  10377.99   12209.40\n",
       "812           RTX 3090     MagaLu  14500.00   14500.00\n",
       "777           RTX 3090     Amazon  11399.00   11399.00\n",
       "773           RTX 3090     Amazon  11234.00   11234.90\n",
       "749           RTX 3090     Amazon   9599.00    9599.00\n",
       "711           RTX 3090  ITX Gamer   8499.15    9999.00\n",
       "708           RTX 3090  ITX Gamer   8481.30    9978.00\n",
       "695           RTX 3090  ITX Gamer   8299.00    9763.53\n",
       "660           RTX 3090     Amazon   7424.00    7425.20\n",
       "823           RTX 3090     MagaLu  29699.10   32999.00"
      ]
     },
     "execution_count": 70,
     "metadata": {},
     "output_type": "execute_result"
    }
   ],
   "source": [
    "df_1 = df[(df['ModeloSimplificado'] == 'RTX 3090') | (df['ModeloSimplificado'] == 'RTX 3090Ti') | (df['ModeloSimplificado'] == 'RX 6900XT')].sort_values(by='ModeloSimplificado', ascending=False)\n",
    "df_1[['ModeloSimplificado', 'Loja', 'ValorAV', 'ValorParc']]"
   ]
  },
  {
   "attachments": {},
   "cell_type": "markdown",
   "metadata": {},
   "source": [
    "Analisando o Dataframe, foi encontrado valores discrepantes, algumas placas de vídeo chegando a mais de 25 mil, o que acaba aumentando a média lá pra cima.\n",
    "\n",
    "Foi possível perceber que os sites, quando a placa está fora de estoque eles aumentam o valor da placa para um valor muito alto, qual ocasiona esses preços."
   ]
  },
  {
   "attachments": {},
   "cell_type": "markdown",
   "metadata": {},
   "source": [
    "## Análise das Lojas\n",
    "\n",
    "Visualizando o dataframe gerado, foi verificado que a loja Magalu é a que mais aparece, porém, por ser um marketplace, pode ser que ele contenha produtos de lojas como a Kabum, Pichau, Terabyte, etc. Por isso, não é possível afirmar que a Magalu é a loja que mais possui placas de vídeo, o mesmo acontece com a Kabum e Amazon."
   ]
  },
  {
   "cell_type": "code",
   "execution_count": 71,
   "metadata": {},
   "outputs": [
    {
     "data": {
      "text/html": [
       "<div>\n",
       "<style scoped>\n",
       "    .dataframe tbody tr th:only-of-type {\n",
       "        vertical-align: middle;\n",
       "    }\n",
       "\n",
       "    .dataframe tbody tr th {\n",
       "        vertical-align: top;\n",
       "    }\n",
       "\n",
       "    .dataframe thead th {\n",
       "        text-align: right;\n",
       "    }\n",
       "</style>\n",
       "<table border=\"1\" class=\"dataframe\">\n",
       "  <thead>\n",
       "    <tr style=\"text-align: right;\">\n",
       "      <th></th>\n",
       "      <th>Loja</th>\n",
       "      <th>Ocorrencias</th>\n",
       "    </tr>\n",
       "  </thead>\n",
       "  <tbody>\n",
       "    <tr>\n",
       "      <th>0</th>\n",
       "      <td>MagaLu</td>\n",
       "      <td>186</td>\n",
       "    </tr>\n",
       "    <tr>\n",
       "      <th>1</th>\n",
       "      <td>Kabum</td>\n",
       "      <td>175</td>\n",
       "    </tr>\n",
       "    <tr>\n",
       "      <th>2</th>\n",
       "      <td>Pichau</td>\n",
       "      <td>119</td>\n",
       "    </tr>\n",
       "    <tr>\n",
       "      <th>3</th>\n",
       "      <td>Amazon</td>\n",
       "      <td>110</td>\n",
       "    </tr>\n",
       "    <tr>\n",
       "      <th>4</th>\n",
       "      <td>Terabyte</td>\n",
       "      <td>90</td>\n",
       "    </tr>\n",
       "    <tr>\n",
       "      <th>5</th>\n",
       "      <td>ITX Gamer</td>\n",
       "      <td>38</td>\n",
       "    </tr>\n",
       "    <tr>\n",
       "      <th>6</th>\n",
       "      <td>GKInfoStore</td>\n",
       "      <td>32</td>\n",
       "    </tr>\n",
       "    <tr>\n",
       "      <th>7</th>\n",
       "      <td>Imperiums</td>\n",
       "      <td>15</td>\n",
       "    </tr>\n",
       "    <tr>\n",
       "      <th>8</th>\n",
       "      <td>GuerraDigital</td>\n",
       "      <td>12</td>\n",
       "    </tr>\n",
       "    <tr>\n",
       "      <th>9</th>\n",
       "      <td>Patoloco</td>\n",
       "      <td>12</td>\n",
       "    </tr>\n",
       "    <tr>\n",
       "      <th>10</th>\n",
       "      <td>FGTec</td>\n",
       "      <td>11</td>\n",
       "    </tr>\n",
       "    <tr>\n",
       "      <th>11</th>\n",
       "      <td>Inpower</td>\n",
       "      <td>9</td>\n",
       "    </tr>\n",
       "    <tr>\n",
       "      <th>12</th>\n",
       "      <td>AlligatorShop</td>\n",
       "      <td>8</td>\n",
       "    </tr>\n",
       "    <tr>\n",
       "      <th>13</th>\n",
       "      <td>ChipArt</td>\n",
       "      <td>7</td>\n",
       "    </tr>\n",
       "  </tbody>\n",
       "</table>\n",
       "</div>"
      ],
      "text/plain": [
       "             Loja  Ocorrencias\n",
       "0          MagaLu          186\n",
       "1           Kabum          175\n",
       "2          Pichau          119\n",
       "3          Amazon          110\n",
       "4        Terabyte           90\n",
       "5       ITX Gamer           38\n",
       "6     GKInfoStore           32\n",
       "7       Imperiums           15\n",
       "8   GuerraDigital           12\n",
       "9        Patoloco           12\n",
       "10          FGTec           11\n",
       "11        Inpower            9\n",
       "12  AlligatorShop            8\n",
       "13        ChipArt            7"
      ]
     },
     "execution_count": 71,
     "metadata": {},
     "output_type": "execute_result"
    }
   ],
   "source": [
    "# Contando a quantidade de ocorrencias de cada loja que aparece de forma descrescente\n",
    "\n",
    "ocorrencias = df['Loja'].value_counts(ascending=False).reset_index()\n",
    "ocorrencias.columns = ['Loja', 'Ocorrencias']\n",
    "ocorrencias"
   ]
  },
  {
   "cell_type": "code",
   "execution_count": 72,
   "metadata": {},
   "outputs": [
    {
     "data": {
      "application/vnd.plotly.v1+json": {
       "config": {
        "plotlyServerURL": "https://plot.ly"
       },
       "data": [
        {
         "name": "Terabyte",
         "type": "box",
         "y": [
          699.9,
          799.99,
          849,
          899,
          999,
          999,
          999,
          1049.9,
          1099,
          1299,
          1329.9,
          1399,
          1399,
          1399,
          1599,
          1599,
          1699.9,
          1799,
          1859,
          1899,
          1899,
          1899,
          1899,
          1999,
          1999,
          1999,
          2099,
          2099,
          2159,
          2199,
          2199,
          2199,
          2199,
          2199,
          2299,
          2299,
          2299,
          2299.9,
          2399,
          2399,
          2399.9,
          2597,
          2799.9,
          2897,
          2987,
          3299,
          3359,
          3399,
          3499,
          3799,
          3899,
          4199.9,
          4499,
          4599.9,
          4699,
          4999,
          4999,
          4999,
          5099,
          5899,
          5899,
          5999,
          5999.9,
          6399,
          6399,
          6399,
          6699,
          6899,
          6999,
          7599,
          7699,
          7899,
          7899,
          7999,
          7999.9,
          8199,
          8399,
          8399,
          8399,
          8599,
          8679,
          8699,
          8999,
          9299,
          9519.15,
          10599.9,
          11999,
          12929,
          12999,
          12999
         ]
        },
        {
         "name": "Kabum",
         "type": "box",
         "y": [
          801.23,
          978.49,
          1007,
          1019.15,
          1076.69,
          1199,
          1269,
          1287.99,
          1349.99,
          1358.49,
          1399.99,
          1424.99,
          1517.14,
          1519.99,
          1595.99,
          1614.99,
          1617.3,
          1644.99,
          1690.99,
          1700.49,
          1710,
          1716.12,
          1730.91,
          1749.99,
          1768.45,
          1779.99,
          1799,
          1880.99,
          1899.99,
          1899.99,
          1909.8,
          1925,
          1937.99,
          1949,
          1976,
          1978.79,
          1989.89,
          1999.99,
          2004.38,
          2013.99,
          2023.49,
          2042.49,
          2046.38,
          2077.55,
          2089.99,
          2089.99,
          2099.99,
          2158.99,
          2159.99,
          2165.99,
          2183.88,
          2198.99,
          2199.9,
          2199.99,
          2279.99,
          2279.99,
          2299,
          2321.56,
          2356,
          2358.32,
          2374.98,
          2379.15,
          2399,
          2399.99,
          2399.99,
          2399.99,
          2416.87,
          2417.07,
          2469.99,
          2469.99,
          2499.99,
          2559.99,
          2564.04,
          2564.99,
          2564.99,
          2564.99,
          2580,
          2588.99,
          2599.99,
          2657.3,
          2659.99,
          2667.34,
          2759.99,
          2969.4,
          2999.99,
          3199.99,
          3199.99,
          3229.99,
          3289.99,
          3299.99,
          3305.99,
          3405.68,
          3462.74,
          3597.64,
          3623.91,
          3666.99,
          3919.99,
          4049.1,
          4286.01,
          4461.99,
          4499.1,
          4567.99,
          4588.49,
          4649.07,
          4664.49,
          4683.49,
          4836.04,
          4849.99,
          4857.51,
          4882.31,
          4899.99,
          4900.17,
          5061.99,
          5129.99,
          5134.13,
          5140.99,
          5269.15,
          5579.07,
          5699.99,
          5799,
          5799,
          5826.51,
          5946.21,
          5976.66,
          6018.24,
          6132.24,
          6175,
          6175,
          6175,
          6240.54,
          6276.57,
          6288.99,
          6392.99,
          6479.99,
          6484.99,
          6555,
          6649.99,
          6800.45,
          6801.99,
          6833.15,
          6934.99,
          7124.99,
          7185.9,
          7219.99,
          7248.49,
          7364.99,
          7409.99,
          7571.46,
          7790,
          7941.04,
          7999.99,
          8199.99,
          8359.99,
          8369.07,
          8382.99,
          8516.75,
          8549.99,
          8549.99,
          8741.07,
          9123.48,
          9569.99,
          10159.99,
          10449.99,
          10584.99,
          10687.49,
          10915.5,
          11159.07,
          11288.99,
          11304.99,
          11874.99,
          12729.99,
          13487.93,
          13599,
          15990,
          16149.99
         ]
        },
        {
         "name": "Pichau",
         "type": "box",
         "y": [
          929,
          949.99,
          999,
          999,
          1429.9,
          1449.99,
          1489.99,
          1596,
          1699.99,
          1749,
          1799,
          1799.99,
          1799.99,
          1799.99,
          1799.99,
          1859.99,
          1859.99,
          1899.99,
          1899.99,
          1969,
          1979,
          1999,
          2049,
          2059,
          2079,
          2089,
          2099,
          2158,
          2159,
          2189,
          2195.99,
          2399,
          2399,
          2399.99,
          2399.99,
          2499,
          2559.99,
          2587.06,
          2587.06,
          2599,
          2599.99,
          2599.99,
          2599.99,
          2659.99,
          2689,
          2698.99,
          2698.99,
          2704.71,
          2704.71,
          2704.71,
          2749.99,
          2759.99,
          2849.99,
          3647.05,
          3752.93,
          3762.35,
          3764.69,
          3834.12,
          3835.28,
          3881.18,
          3899,
          3899,
          3951.77,
          3952.93,
          4116.47,
          4199,
          4259,
          4259,
          4499.99,
          4519.99,
          4559.99,
          4599.99,
          4599.99,
          4599.99,
          4699,
          4836,
          4914,
          4959.99,
          5159.99,
          5199.99,
          5799,
          5899,
          5999.99,
          5999.99,
          6359.99,
          6392,
          6394,
          6399,
          6399,
          6484,
          6489.99,
          6499,
          6599,
          6699,
          6699.99,
          7199,
          7369,
          7499.99,
          7499.99,
          7699,
          7799,
          7999,
          7999,
          7999,
          8199,
          8199.99,
          8383,
          8399,
          8699,
          10669.34,
          10719.99,
          10999.99,
          11199,
          11399,
          11499,
          11499,
          11699,
          11879.99,
          12251.06
         ]
        },
        {
         "name": "AlligatorShop",
         "type": "box",
         "y": [
          949.9,
          1660.82,
          1799.89,
          1859.9,
          1949.9,
          2179.9,
          2299.9,
          7999.9
         ]
        },
        {
         "name": "ITX Gamer",
         "type": "box",
         "y": [
          989,
          1473.84,
          1498.99,
          1499,
          1569.49,
          1598.99,
          1689,
          1690,
          1793.5,
          1816.76,
          1869.07,
          1915.77,
          2021.7,
          2098.69,
          2149.05,
          2298.99,
          2349.08,
          2494.15,
          2549.08,
          2679.08,
          2938.99,
          3399,
          3799,
          3799,
          3977.54,
          3998.99,
          4239.93,
          4861.8,
          6599.98,
          6698.99,
          6698.99,
          8299,
          8452.5,
          8481.3,
          8499.15,
          11729.91,
          11899,
          11999
         ]
        },
        {
         "name": "GuerraDigital",
         "type": "box",
         "y": [
          989,
          1203.14,
          1547.14,
          1591,
          1805.14,
          1935,
          1935,
          2235.14,
          3311,
          4471.14,
          4643.14,
          5503.14
         ]
        },
        {
         "name": "Inpower",
         "type": "box",
         "y": [
          999.9,
          1799.1,
          1979.1,
          2279.7,
          4899.6,
          4949.1,
          5759.1,
          6299.1,
          11699.1
         ]
        },
        {
         "name": "Imperiums",
         "type": "box",
         "y": [
          1019.15,
          1046.89,
          1359.99,
          1533.65,
          1869.99,
          1978.49,
          1979.65,
          2218.37,
          2302.22,
          2485.97,
          3739.99,
          3842.57,
          4546.87,
          10377.99,
          12683.05
         ]
        },
        {
         "name": "GKInfoStore",
         "type": "box",
         "y": [
          1048.99,
          1749.99,
          1999,
          2099,
          2159,
          2278.8,
          2299,
          2598.99,
          2949,
          3999,
          4199,
          4399,
          4699,
          4799,
          4898.99,
          4949,
          5399,
          5499,
          5598.99,
          5699,
          5899,
          6298.99,
          6814.88,
          7499,
          7499,
          7899,
          7998.99,
          8398.99,
          8684,
          10999,
          11749.98,
          12398.99
         ]
        },
        {
         "name": "FGTec",
         "type": "box",
         "y": [
          1069.3,
          1899.75,
          1999.2,
          2339.2,
          2399.55,
          4899.4,
          4899.4,
          5229.2,
          8625.8,
          8649.6,
          11899.15
         ]
        },
        {
         "name": "MagaLu",
         "type": "box",
         "y": [
          1287.99,
          1349.1,
          1394.99,
          1429.99,
          1499.99,
          1599,
          1599,
          1662.27,
          1692.59,
          1700,
          1712.53,
          1766.07,
          1799.89,
          1799.99,
          1859.9,
          1889.1,
          1889.1,
          1893.39,
          1899.99,
          1925,
          1930.07,
          1952.07,
          1985.5,
          1990.85,
          1992,
          1999,
          1999.49,
          2032.56,
          2045.75,
          2049.9,
          2079.99,
          2089.99,
          2092.41,
          2099.99,
          2106,
          2116.47,
          2159.99,
          2178,
          2198.99,
          2199.9,
          2199.99,
          2245.39,
          2264,
          2264,
          2279.99,
          2294.33,
          2306.31,
          2324.91,
          2399.99,
          2399.99,
          2399.99,
          2417.91,
          2418.84,
          2419.99,
          2420.73,
          2422.5,
          2451.44,
          2452.97,
          2460.5,
          2479.99,
          2480.45,
          2486.2,
          2499.99,
          2506.26,
          2508.72,
          2559.99,
          2569.59,
          2599.99,
          2599.99,
          2636.05,
          2659.99,
          2696.91,
          2698.99,
          2699.99,
          2699.99,
          2753.1,
          2763,
          2763,
          2763,
          2999,
          2999.99,
          3399.36,
          3500,
          3644.99,
          3919.99,
          3999,
          4049.1,
          4170.14,
          4344.87,
          4499.1,
          4499.1,
          4650,
          4796.41,
          4812.21,
          4869.12,
          4894.91,
          4899.99,
          4900.08,
          4909.99,
          4929.99,
          5021.91,
          5075.54,
          5114.91,
          5207.91,
          5300.91,
          5358.51,
          5399.1,
          5399.99,
          5913.2,
          5955.28,
          5999.99,
          6074.1,
          6165.5,
          6209.1,
          6269.05,
          6299.1,
          6340.65,
          6344.59,
          6392.99,
          6454.99,
          6479.99,
          6479.99,
          6484.99,
          6499.99,
          6509.91,
          6535.02,
          6568.99,
          6586.65,
          6671.61,
          6893.38,
          6899.99,
          6947.38,
          6970.96,
          6995.02,
          6999.21,
          6999.21,
          6999.99,
          7014.68,
          7045.4,
          7104.41,
          7150,
          7199,
          7199.99,
          7282.36,
          7285.76,
          7299.99,
          7499.99,
          7599.99,
          7629.99,
          7799.99,
          7899.99,
          8099.1,
          8336.66,
          8459.1,
          8545.25,
          8567.79,
          8719.99,
          8799.9,
          8909.1,
          8999.99,
          8999.99,
          9002.48,
          9021.72,
          9240.39,
          9392.91,
          9399.9,
          9411.75,
          9549.89,
          9999.99,
          10055.48,
          10159.99,
          10584.99,
          10799.1,
          10874.54,
          11249.99,
          11489.99,
          11836.91,
          12280.96,
          12680.46,
          13400.27,
          13872.69,
          14087.6,
          14500,
          14763.51,
          21425.31,
          29699.1
         ]
        },
        {
         "name": "Amazon",
         "type": "box",
         "y": [
          1299,
          1499,
          1532,
          1538,
          1598,
          1645,
          1700,
          1710,
          1719,
          1769,
          1799,
          1799,
          1807,
          1857,
          1874,
          1877,
          1952,
          2019,
          2047,
          2048,
          2139,
          2149,
          2151,
          2195,
          2217,
          2246,
          2279,
          2289,
          2299,
          2299,
          2340,
          2399,
          2399,
          2474,
          2478,
          2494,
          2629,
          2697,
          2698,
          3369,
          3399,
          3586,
          3679,
          3721,
          4099,
          4170,
          4199,
          4300,
          4399,
          4499,
          4599,
          4889,
          4900,
          4914,
          5077,
          5123,
          5134,
          5199,
          5252,
          5306,
          5369,
          5486,
          5567,
          5815,
          5835,
          5999,
          6070,
          6299,
          6335,
          6382,
          6399,
          6438,
          6490,
          6499,
          6499,
          6499,
          6549,
          6749,
          6799,
          6799,
          6885,
          7154,
          7424,
          7631,
          8484,
          8484,
          8536,
          8640,
          8941,
          9119,
          9299,
          9399,
          9468,
          9599,
          9600,
          9814,
          9940,
          11234,
          11399,
          11999,
          11999,
          12999,
          13499,
          13673,
          16000,
          16002,
          16245,
          16506,
          23611,
          23940
         ]
        },
        {
         "name": "Patoloco",
         "type": "box",
         "y": [
          1387.1,
          1722.31,
          1928.11,
          2248.17,
          4347.09,
          4416.18,
          4497.87,
          4635.1,
          4886.12,
          5830.31,
          7912.25,
          10472.78
         ]
        },
        {
         "name": "ChipArt",
         "type": "box",
         "y": [
          1785.89,
          1799.9,
          1894.95,
          2000,
          2500.25,
          4401.2,
          4901.45
         ]
        }
       ],
       "layout": {
        "template": {
         "data": {
          "bar": [
           {
            "error_x": {
             "color": "#f2f5fa"
            },
            "error_y": {
             "color": "#f2f5fa"
            },
            "marker": {
             "line": {
              "color": "rgb(17,17,17)",
              "width": 0.5
             },
             "pattern": {
              "fillmode": "overlay",
              "size": 10,
              "solidity": 0.2
             }
            },
            "type": "bar"
           }
          ],
          "barpolar": [
           {
            "marker": {
             "line": {
              "color": "rgb(17,17,17)",
              "width": 0.5
             },
             "pattern": {
              "fillmode": "overlay",
              "size": 10,
              "solidity": 0.2
             }
            },
            "type": "barpolar"
           }
          ],
          "carpet": [
           {
            "aaxis": {
             "endlinecolor": "#A2B1C6",
             "gridcolor": "#506784",
             "linecolor": "#506784",
             "minorgridcolor": "#506784",
             "startlinecolor": "#A2B1C6"
            },
            "baxis": {
             "endlinecolor": "#A2B1C6",
             "gridcolor": "#506784",
             "linecolor": "#506784",
             "minorgridcolor": "#506784",
             "startlinecolor": "#A2B1C6"
            },
            "type": "carpet"
           }
          ],
          "choropleth": [
           {
            "colorbar": {
             "outlinewidth": 0,
             "ticks": ""
            },
            "type": "choropleth"
           }
          ],
          "contour": [
           {
            "colorbar": {
             "outlinewidth": 0,
             "ticks": ""
            },
            "colorscale": [
             [
              0,
              "#0d0887"
             ],
             [
              0.1111111111111111,
              "#46039f"
             ],
             [
              0.2222222222222222,
              "#7201a8"
             ],
             [
              0.3333333333333333,
              "#9c179e"
             ],
             [
              0.4444444444444444,
              "#bd3786"
             ],
             [
              0.5555555555555556,
              "#d8576b"
             ],
             [
              0.6666666666666666,
              "#ed7953"
             ],
             [
              0.7777777777777778,
              "#fb9f3a"
             ],
             [
              0.8888888888888888,
              "#fdca26"
             ],
             [
              1,
              "#f0f921"
             ]
            ],
            "type": "contour"
           }
          ],
          "contourcarpet": [
           {
            "colorbar": {
             "outlinewidth": 0,
             "ticks": ""
            },
            "type": "contourcarpet"
           }
          ],
          "heatmap": [
           {
            "colorbar": {
             "outlinewidth": 0,
             "ticks": ""
            },
            "colorscale": [
             [
              0,
              "#0d0887"
             ],
             [
              0.1111111111111111,
              "#46039f"
             ],
             [
              0.2222222222222222,
              "#7201a8"
             ],
             [
              0.3333333333333333,
              "#9c179e"
             ],
             [
              0.4444444444444444,
              "#bd3786"
             ],
             [
              0.5555555555555556,
              "#d8576b"
             ],
             [
              0.6666666666666666,
              "#ed7953"
             ],
             [
              0.7777777777777778,
              "#fb9f3a"
             ],
             [
              0.8888888888888888,
              "#fdca26"
             ],
             [
              1,
              "#f0f921"
             ]
            ],
            "type": "heatmap"
           }
          ],
          "heatmapgl": [
           {
            "colorbar": {
             "outlinewidth": 0,
             "ticks": ""
            },
            "colorscale": [
             [
              0,
              "#0d0887"
             ],
             [
              0.1111111111111111,
              "#46039f"
             ],
             [
              0.2222222222222222,
              "#7201a8"
             ],
             [
              0.3333333333333333,
              "#9c179e"
             ],
             [
              0.4444444444444444,
              "#bd3786"
             ],
             [
              0.5555555555555556,
              "#d8576b"
             ],
             [
              0.6666666666666666,
              "#ed7953"
             ],
             [
              0.7777777777777778,
              "#fb9f3a"
             ],
             [
              0.8888888888888888,
              "#fdca26"
             ],
             [
              1,
              "#f0f921"
             ]
            ],
            "type": "heatmapgl"
           }
          ],
          "histogram": [
           {
            "marker": {
             "pattern": {
              "fillmode": "overlay",
              "size": 10,
              "solidity": 0.2
             }
            },
            "type": "histogram"
           }
          ],
          "histogram2d": [
           {
            "colorbar": {
             "outlinewidth": 0,
             "ticks": ""
            },
            "colorscale": [
             [
              0,
              "#0d0887"
             ],
             [
              0.1111111111111111,
              "#46039f"
             ],
             [
              0.2222222222222222,
              "#7201a8"
             ],
             [
              0.3333333333333333,
              "#9c179e"
             ],
             [
              0.4444444444444444,
              "#bd3786"
             ],
             [
              0.5555555555555556,
              "#d8576b"
             ],
             [
              0.6666666666666666,
              "#ed7953"
             ],
             [
              0.7777777777777778,
              "#fb9f3a"
             ],
             [
              0.8888888888888888,
              "#fdca26"
             ],
             [
              1,
              "#f0f921"
             ]
            ],
            "type": "histogram2d"
           }
          ],
          "histogram2dcontour": [
           {
            "colorbar": {
             "outlinewidth": 0,
             "ticks": ""
            },
            "colorscale": [
             [
              0,
              "#0d0887"
             ],
             [
              0.1111111111111111,
              "#46039f"
             ],
             [
              0.2222222222222222,
              "#7201a8"
             ],
             [
              0.3333333333333333,
              "#9c179e"
             ],
             [
              0.4444444444444444,
              "#bd3786"
             ],
             [
              0.5555555555555556,
              "#d8576b"
             ],
             [
              0.6666666666666666,
              "#ed7953"
             ],
             [
              0.7777777777777778,
              "#fb9f3a"
             ],
             [
              0.8888888888888888,
              "#fdca26"
             ],
             [
              1,
              "#f0f921"
             ]
            ],
            "type": "histogram2dcontour"
           }
          ],
          "mesh3d": [
           {
            "colorbar": {
             "outlinewidth": 0,
             "ticks": ""
            },
            "type": "mesh3d"
           }
          ],
          "parcoords": [
           {
            "line": {
             "colorbar": {
              "outlinewidth": 0,
              "ticks": ""
             }
            },
            "type": "parcoords"
           }
          ],
          "pie": [
           {
            "automargin": true,
            "type": "pie"
           }
          ],
          "scatter": [
           {
            "marker": {
             "line": {
              "color": "#283442"
             }
            },
            "type": "scatter"
           }
          ],
          "scatter3d": [
           {
            "line": {
             "colorbar": {
              "outlinewidth": 0,
              "ticks": ""
             }
            },
            "marker": {
             "colorbar": {
              "outlinewidth": 0,
              "ticks": ""
             }
            },
            "type": "scatter3d"
           }
          ],
          "scattercarpet": [
           {
            "marker": {
             "colorbar": {
              "outlinewidth": 0,
              "ticks": ""
             }
            },
            "type": "scattercarpet"
           }
          ],
          "scattergeo": [
           {
            "marker": {
             "colorbar": {
              "outlinewidth": 0,
              "ticks": ""
             }
            },
            "type": "scattergeo"
           }
          ],
          "scattergl": [
           {
            "marker": {
             "line": {
              "color": "#283442"
             }
            },
            "type": "scattergl"
           }
          ],
          "scattermapbox": [
           {
            "marker": {
             "colorbar": {
              "outlinewidth": 0,
              "ticks": ""
             }
            },
            "type": "scattermapbox"
           }
          ],
          "scatterpolar": [
           {
            "marker": {
             "colorbar": {
              "outlinewidth": 0,
              "ticks": ""
             }
            },
            "type": "scatterpolar"
           }
          ],
          "scatterpolargl": [
           {
            "marker": {
             "colorbar": {
              "outlinewidth": 0,
              "ticks": ""
             }
            },
            "type": "scatterpolargl"
           }
          ],
          "scatterternary": [
           {
            "marker": {
             "colorbar": {
              "outlinewidth": 0,
              "ticks": ""
             }
            },
            "type": "scatterternary"
           }
          ],
          "surface": [
           {
            "colorbar": {
             "outlinewidth": 0,
             "ticks": ""
            },
            "colorscale": [
             [
              0,
              "#0d0887"
             ],
             [
              0.1111111111111111,
              "#46039f"
             ],
             [
              0.2222222222222222,
              "#7201a8"
             ],
             [
              0.3333333333333333,
              "#9c179e"
             ],
             [
              0.4444444444444444,
              "#bd3786"
             ],
             [
              0.5555555555555556,
              "#d8576b"
             ],
             [
              0.6666666666666666,
              "#ed7953"
             ],
             [
              0.7777777777777778,
              "#fb9f3a"
             ],
             [
              0.8888888888888888,
              "#fdca26"
             ],
             [
              1,
              "#f0f921"
             ]
            ],
            "type": "surface"
           }
          ],
          "table": [
           {
            "cells": {
             "fill": {
              "color": "#506784"
             },
             "line": {
              "color": "rgb(17,17,17)"
             }
            },
            "header": {
             "fill": {
              "color": "#2a3f5f"
             },
             "line": {
              "color": "rgb(17,17,17)"
             }
            },
            "type": "table"
           }
          ]
         },
         "layout": {
          "annotationdefaults": {
           "arrowcolor": "#f2f5fa",
           "arrowhead": 0,
           "arrowwidth": 1
          },
          "autotypenumbers": "strict",
          "coloraxis": {
           "colorbar": {
            "outlinewidth": 0,
            "ticks": ""
           }
          },
          "colorscale": {
           "diverging": [
            [
             0,
             "#8e0152"
            ],
            [
             0.1,
             "#c51b7d"
            ],
            [
             0.2,
             "#de77ae"
            ],
            [
             0.3,
             "#f1b6da"
            ],
            [
             0.4,
             "#fde0ef"
            ],
            [
             0.5,
             "#f7f7f7"
            ],
            [
             0.6,
             "#e6f5d0"
            ],
            [
             0.7,
             "#b8e186"
            ],
            [
             0.8,
             "#7fbc41"
            ],
            [
             0.9,
             "#4d9221"
            ],
            [
             1,
             "#276419"
            ]
           ],
           "sequential": [
            [
             0,
             "#0d0887"
            ],
            [
             0.1111111111111111,
             "#46039f"
            ],
            [
             0.2222222222222222,
             "#7201a8"
            ],
            [
             0.3333333333333333,
             "#9c179e"
            ],
            [
             0.4444444444444444,
             "#bd3786"
            ],
            [
             0.5555555555555556,
             "#d8576b"
            ],
            [
             0.6666666666666666,
             "#ed7953"
            ],
            [
             0.7777777777777778,
             "#fb9f3a"
            ],
            [
             0.8888888888888888,
             "#fdca26"
            ],
            [
             1,
             "#f0f921"
            ]
           ],
           "sequentialminus": [
            [
             0,
             "#0d0887"
            ],
            [
             0.1111111111111111,
             "#46039f"
            ],
            [
             0.2222222222222222,
             "#7201a8"
            ],
            [
             0.3333333333333333,
             "#9c179e"
            ],
            [
             0.4444444444444444,
             "#bd3786"
            ],
            [
             0.5555555555555556,
             "#d8576b"
            ],
            [
             0.6666666666666666,
             "#ed7953"
            ],
            [
             0.7777777777777778,
             "#fb9f3a"
            ],
            [
             0.8888888888888888,
             "#fdca26"
            ],
            [
             1,
             "#f0f921"
            ]
           ]
          },
          "colorway": [
           "#636efa",
           "#EF553B",
           "#00cc96",
           "#ab63fa",
           "#FFA15A",
           "#19d3f3",
           "#FF6692",
           "#B6E880",
           "#FF97FF",
           "#FECB52"
          ],
          "font": {
           "color": "#f2f5fa"
          },
          "geo": {
           "bgcolor": "rgb(17,17,17)",
           "lakecolor": "rgb(17,17,17)",
           "landcolor": "rgb(17,17,17)",
           "showlakes": true,
           "showland": true,
           "subunitcolor": "#506784"
          },
          "hoverlabel": {
           "align": "left"
          },
          "hovermode": "closest",
          "mapbox": {
           "style": "dark"
          },
          "paper_bgcolor": "rgb(17,17,17)",
          "plot_bgcolor": "rgb(17,17,17)",
          "polar": {
           "angularaxis": {
            "gridcolor": "#506784",
            "linecolor": "#506784",
            "ticks": ""
           },
           "bgcolor": "rgb(17,17,17)",
           "radialaxis": {
            "gridcolor": "#506784",
            "linecolor": "#506784",
            "ticks": ""
           }
          },
          "scene": {
           "xaxis": {
            "backgroundcolor": "rgb(17,17,17)",
            "gridcolor": "#506784",
            "gridwidth": 2,
            "linecolor": "#506784",
            "showbackground": true,
            "ticks": "",
            "zerolinecolor": "#C8D4E3"
           },
           "yaxis": {
            "backgroundcolor": "rgb(17,17,17)",
            "gridcolor": "#506784",
            "gridwidth": 2,
            "linecolor": "#506784",
            "showbackground": true,
            "ticks": "",
            "zerolinecolor": "#C8D4E3"
           },
           "zaxis": {
            "backgroundcolor": "rgb(17,17,17)",
            "gridcolor": "#506784",
            "gridwidth": 2,
            "linecolor": "#506784",
            "showbackground": true,
            "ticks": "",
            "zerolinecolor": "#C8D4E3"
           }
          },
          "shapedefaults": {
           "line": {
            "color": "#f2f5fa"
           }
          },
          "sliderdefaults": {
           "bgcolor": "#C8D4E3",
           "bordercolor": "rgb(17,17,17)",
           "borderwidth": 1,
           "tickwidth": 0
          },
          "ternary": {
           "aaxis": {
            "gridcolor": "#506784",
            "linecolor": "#506784",
            "ticks": ""
           },
           "baxis": {
            "gridcolor": "#506784",
            "linecolor": "#506784",
            "ticks": ""
           },
           "bgcolor": "rgb(17,17,17)",
           "caxis": {
            "gridcolor": "#506784",
            "linecolor": "#506784",
            "ticks": ""
           }
          },
          "title": {
           "x": 0.05
          },
          "updatemenudefaults": {
           "bgcolor": "#506784",
           "borderwidth": 0
          },
          "xaxis": {
           "automargin": true,
           "gridcolor": "#283442",
           "linecolor": "#506784",
           "ticks": "",
           "title": {
            "standoff": 15
           },
           "zerolinecolor": "#283442",
           "zerolinewidth": 2
          },
          "yaxis": {
           "automargin": true,
           "gridcolor": "#283442",
           "linecolor": "#506784",
           "ticks": "",
           "title": {
            "standoff": 15
           },
           "zerolinecolor": "#283442",
           "zerolinewidth": 2
          }
         }
        },
        "title": {
         "text": "Distribuição de Preços por Loja"
        },
        "xaxis": {
         "title": {
          "text": "Lojas"
         }
        },
        "yaxis": {
         "title": {
          "text": "Valor à Vista (R$)"
         }
        }
       }
      }
     },
     "metadata": {},
     "output_type": "display_data"
    }
   ],
   "source": [
    "# Criar um boxplot dos preços por loja\n",
    "fig = go.Figure()\n",
    "\n",
    "for loja in df['Loja'].unique():\n",
    "    fig.add_trace(go.Box(y=df[df['Loja'] == loja]['ValorAV'], name=loja))\n",
    "\n",
    "# Personalizar o layout do gráfico\n",
    "fig.update_layout(\n",
    "    title='Distribuição de Preços por Loja',\n",
    "    xaxis=dict(title='Lojas'),\n",
    "    yaxis=dict(title='Valor à Vista (R$)'),\n",
    "    template='plotly_dark'\n",
    ")\n",
    "\n",
    "# Exibir o gráfico\n",
    "fig.show()"
   ]
  },
  {
   "attachments": {},
   "cell_type": "markdown",
   "metadata": {},
   "source": [
    "## 1. Qual é a loja que possui mais placas de vídeo à venda?"
   ]
  },
  {
   "cell_type": "code",
   "execution_count": 80,
   "metadata": {},
   "outputs": [
    {
     "data": {
      "text/html": [
       "<div>\n",
       "<style scoped>\n",
       "    .dataframe tbody tr th:only-of-type {\n",
       "        vertical-align: middle;\n",
       "    }\n",
       "\n",
       "    .dataframe tbody tr th {\n",
       "        vertical-align: top;\n",
       "    }\n",
       "\n",
       "    .dataframe thead th {\n",
       "        text-align: right;\n",
       "    }\n",
       "</style>\n",
       "<table border=\"1\" class=\"dataframe\">\n",
       "  <thead>\n",
       "    <tr style=\"text-align: right;\">\n",
       "      <th></th>\n",
       "      <th>Loja</th>\n",
       "      <th>Disponivel</th>\n",
       "    </tr>\n",
       "  </thead>\n",
       "  <tbody>\n",
       "    <tr>\n",
       "      <th>0</th>\n",
       "      <td>MagaLu</td>\n",
       "      <td>186</td>\n",
       "    </tr>\n",
       "    <tr>\n",
       "      <th>1</th>\n",
       "      <td>Kabum</td>\n",
       "      <td>175</td>\n",
       "    </tr>\n",
       "    <tr>\n",
       "      <th>2</th>\n",
       "      <td>Pichau</td>\n",
       "      <td>119</td>\n",
       "    </tr>\n",
       "    <tr>\n",
       "      <th>3</th>\n",
       "      <td>Amazon</td>\n",
       "      <td>110</td>\n",
       "    </tr>\n",
       "    <tr>\n",
       "      <th>4</th>\n",
       "      <td>Terabyte</td>\n",
       "      <td>90</td>\n",
       "    </tr>\n",
       "    <tr>\n",
       "      <th>5</th>\n",
       "      <td>ITX Gamer</td>\n",
       "      <td>38</td>\n",
       "    </tr>\n",
       "    <tr>\n",
       "      <th>6</th>\n",
       "      <td>GKInfoStore</td>\n",
       "      <td>32</td>\n",
       "    </tr>\n",
       "    <tr>\n",
       "      <th>7</th>\n",
       "      <td>Imperiums</td>\n",
       "      <td>15</td>\n",
       "    </tr>\n",
       "    <tr>\n",
       "      <th>8</th>\n",
       "      <td>GuerraDigital</td>\n",
       "      <td>12</td>\n",
       "    </tr>\n",
       "    <tr>\n",
       "      <th>9</th>\n",
       "      <td>Patoloco</td>\n",
       "      <td>12</td>\n",
       "    </tr>\n",
       "    <tr>\n",
       "      <th>10</th>\n",
       "      <td>FGTec</td>\n",
       "      <td>11</td>\n",
       "    </tr>\n",
       "    <tr>\n",
       "      <th>11</th>\n",
       "      <td>Inpower</td>\n",
       "      <td>9</td>\n",
       "    </tr>\n",
       "    <tr>\n",
       "      <th>12</th>\n",
       "      <td>AlligatorShop</td>\n",
       "      <td>8</td>\n",
       "    </tr>\n",
       "    <tr>\n",
       "      <th>13</th>\n",
       "      <td>ChipArt</td>\n",
       "      <td>7</td>\n",
       "    </tr>\n",
       "  </tbody>\n",
       "</table>\n",
       "</div>"
      ],
      "text/plain": [
       "             Loja  Disponivel\n",
       "0          MagaLu         186\n",
       "1           Kabum         175\n",
       "2          Pichau         119\n",
       "3          Amazon         110\n",
       "4        Terabyte          90\n",
       "5       ITX Gamer          38\n",
       "6     GKInfoStore          32\n",
       "7       Imperiums          15\n",
       "8   GuerraDigital          12\n",
       "9        Patoloco          12\n",
       "10          FGTec          11\n",
       "11        Inpower           9\n",
       "12  AlligatorShop           8\n",
       "13        ChipArt           7"
      ]
     },
     "execution_count": 80,
     "metadata": {},
     "output_type": "execute_result"
    }
   ],
   "source": [
    "disponivel = df['Loja'].value_counts(ascending=False).reset_index()\n",
    "disponivel.columns = ['Loja', 'Disponivel']\n",
    "disponivel"
   ]
  },
  {
   "attachments": {},
   "cell_type": "markdown",
   "metadata": {},
   "source": [
    "## 2. Calcule a média de valores por modelo de placa de vídeo"
   ]
  },
  {
   "cell_type": "code",
   "execution_count": 89,
   "metadata": {},
   "outputs": [
    {
     "data": {
      "application/vnd.plotly.v1+json": {
       "config": {
        "plotlyServerURL": "https://plot.ly"
       },
       "data": [
        {
         "type": "bar",
         "x": [
          "RTX 3090",
          "RTX 3090Ti",
          "RTX 4090",
          "RX 6900XT",
          "RTX 3080 12GB",
          "RTX 4080",
          "RX 7900 XTX",
          "RX 7900 XT",
          "RX 6800XT",
          "RX 6800",
          "RTX 4070Ti",
          "RTX 3080Ti",
          "RTX 3080 10GB",
          "RTX 4070",
          "RTX 3070Ti",
          "RTX 3070",
          "RTX 4060Ti",
          "RX 5700XT",
          "RX 580",
          "RX 6600XT",
          "RX 6750XT",
          "RX 6700XT",
          "RTX 3060Ti",
          "RTX 2060 Super",
          "Arc A770",
          "RX 7600",
          "RX 6650XT",
          "RTX 3060 12GB",
          "RTX 2060",
          "RTX 3060 8GB",
          "Arc A750",
          "GTX 1650 Super",
          "RTX 3050",
          "RX 6500XT",
          "RX 6400",
          "GTX 1660 Super",
          "GTX 1660Ti",
          "RX 6600",
          "GTX 1660",
          "RX 570",
          "GTX 1650",
          "Arc A380"
         ],
         "y": [
          14251.922666666667,
          13202.341666666667,
          11652.237674418604,
          9366.4925,
          9107.819411764705,
          8407.567118644069,
          8005.7475,
          7224.027894736842,
          6596.642,
          6536.646,
          6468.631325301205,
          5839.48,
          5214.305833333333,
          4816.926666666667,
          4410.1033333333335,
          3846.9573684210527,
          3601.227222222222,
          3500,
          3324.6630000000005,
          3167.669,
          3104.983333333333,
          2706.983333333333,
          2532.150217391304,
          2509.8842857142854,
          2399,
          2398.325,
          2396.4286666666667,
          2285.5801428571426,
          2075.744666666667,
          2055.6055555555554,
          2049,
          1886.5240000000001,
          1883.2642307692308,
          1788.1545833333332,
          1770.643846153846,
          1605.919411764706,
          1595.225,
          1568.6407142857145,
          1563.2425,
          1310.3783333333333,
          987.6975,
          929
         ]
        }
       ],
       "layout": {
        "template": {
         "data": {
          "bar": [
           {
            "error_x": {
             "color": "#f2f5fa"
            },
            "error_y": {
             "color": "#f2f5fa"
            },
            "marker": {
             "line": {
              "color": "rgb(17,17,17)",
              "width": 0.5
             },
             "pattern": {
              "fillmode": "overlay",
              "size": 10,
              "solidity": 0.2
             }
            },
            "type": "bar"
           }
          ],
          "barpolar": [
           {
            "marker": {
             "line": {
              "color": "rgb(17,17,17)",
              "width": 0.5
             },
             "pattern": {
              "fillmode": "overlay",
              "size": 10,
              "solidity": 0.2
             }
            },
            "type": "barpolar"
           }
          ],
          "carpet": [
           {
            "aaxis": {
             "endlinecolor": "#A2B1C6",
             "gridcolor": "#506784",
             "linecolor": "#506784",
             "minorgridcolor": "#506784",
             "startlinecolor": "#A2B1C6"
            },
            "baxis": {
             "endlinecolor": "#A2B1C6",
             "gridcolor": "#506784",
             "linecolor": "#506784",
             "minorgridcolor": "#506784",
             "startlinecolor": "#A2B1C6"
            },
            "type": "carpet"
           }
          ],
          "choropleth": [
           {
            "colorbar": {
             "outlinewidth": 0,
             "ticks": ""
            },
            "type": "choropleth"
           }
          ],
          "contour": [
           {
            "colorbar": {
             "outlinewidth": 0,
             "ticks": ""
            },
            "colorscale": [
             [
              0,
              "#0d0887"
             ],
             [
              0.1111111111111111,
              "#46039f"
             ],
             [
              0.2222222222222222,
              "#7201a8"
             ],
             [
              0.3333333333333333,
              "#9c179e"
             ],
             [
              0.4444444444444444,
              "#bd3786"
             ],
             [
              0.5555555555555556,
              "#d8576b"
             ],
             [
              0.6666666666666666,
              "#ed7953"
             ],
             [
              0.7777777777777778,
              "#fb9f3a"
             ],
             [
              0.8888888888888888,
              "#fdca26"
             ],
             [
              1,
              "#f0f921"
             ]
            ],
            "type": "contour"
           }
          ],
          "contourcarpet": [
           {
            "colorbar": {
             "outlinewidth": 0,
             "ticks": ""
            },
            "type": "contourcarpet"
           }
          ],
          "heatmap": [
           {
            "colorbar": {
             "outlinewidth": 0,
             "ticks": ""
            },
            "colorscale": [
             [
              0,
              "#0d0887"
             ],
             [
              0.1111111111111111,
              "#46039f"
             ],
             [
              0.2222222222222222,
              "#7201a8"
             ],
             [
              0.3333333333333333,
              "#9c179e"
             ],
             [
              0.4444444444444444,
              "#bd3786"
             ],
             [
              0.5555555555555556,
              "#d8576b"
             ],
             [
              0.6666666666666666,
              "#ed7953"
             ],
             [
              0.7777777777777778,
              "#fb9f3a"
             ],
             [
              0.8888888888888888,
              "#fdca26"
             ],
             [
              1,
              "#f0f921"
             ]
            ],
            "type": "heatmap"
           }
          ],
          "heatmapgl": [
           {
            "colorbar": {
             "outlinewidth": 0,
             "ticks": ""
            },
            "colorscale": [
             [
              0,
              "#0d0887"
             ],
             [
              0.1111111111111111,
              "#46039f"
             ],
             [
              0.2222222222222222,
              "#7201a8"
             ],
             [
              0.3333333333333333,
              "#9c179e"
             ],
             [
              0.4444444444444444,
              "#bd3786"
             ],
             [
              0.5555555555555556,
              "#d8576b"
             ],
             [
              0.6666666666666666,
              "#ed7953"
             ],
             [
              0.7777777777777778,
              "#fb9f3a"
             ],
             [
              0.8888888888888888,
              "#fdca26"
             ],
             [
              1,
              "#f0f921"
             ]
            ],
            "type": "heatmapgl"
           }
          ],
          "histogram": [
           {
            "marker": {
             "pattern": {
              "fillmode": "overlay",
              "size": 10,
              "solidity": 0.2
             }
            },
            "type": "histogram"
           }
          ],
          "histogram2d": [
           {
            "colorbar": {
             "outlinewidth": 0,
             "ticks": ""
            },
            "colorscale": [
             [
              0,
              "#0d0887"
             ],
             [
              0.1111111111111111,
              "#46039f"
             ],
             [
              0.2222222222222222,
              "#7201a8"
             ],
             [
              0.3333333333333333,
              "#9c179e"
             ],
             [
              0.4444444444444444,
              "#bd3786"
             ],
             [
              0.5555555555555556,
              "#d8576b"
             ],
             [
              0.6666666666666666,
              "#ed7953"
             ],
             [
              0.7777777777777778,
              "#fb9f3a"
             ],
             [
              0.8888888888888888,
              "#fdca26"
             ],
             [
              1,
              "#f0f921"
             ]
            ],
            "type": "histogram2d"
           }
          ],
          "histogram2dcontour": [
           {
            "colorbar": {
             "outlinewidth": 0,
             "ticks": ""
            },
            "colorscale": [
             [
              0,
              "#0d0887"
             ],
             [
              0.1111111111111111,
              "#46039f"
             ],
             [
              0.2222222222222222,
              "#7201a8"
             ],
             [
              0.3333333333333333,
              "#9c179e"
             ],
             [
              0.4444444444444444,
              "#bd3786"
             ],
             [
              0.5555555555555556,
              "#d8576b"
             ],
             [
              0.6666666666666666,
              "#ed7953"
             ],
             [
              0.7777777777777778,
              "#fb9f3a"
             ],
             [
              0.8888888888888888,
              "#fdca26"
             ],
             [
              1,
              "#f0f921"
             ]
            ],
            "type": "histogram2dcontour"
           }
          ],
          "mesh3d": [
           {
            "colorbar": {
             "outlinewidth": 0,
             "ticks": ""
            },
            "type": "mesh3d"
           }
          ],
          "parcoords": [
           {
            "line": {
             "colorbar": {
              "outlinewidth": 0,
              "ticks": ""
             }
            },
            "type": "parcoords"
           }
          ],
          "pie": [
           {
            "automargin": true,
            "type": "pie"
           }
          ],
          "scatter": [
           {
            "marker": {
             "line": {
              "color": "#283442"
             }
            },
            "type": "scatter"
           }
          ],
          "scatter3d": [
           {
            "line": {
             "colorbar": {
              "outlinewidth": 0,
              "ticks": ""
             }
            },
            "marker": {
             "colorbar": {
              "outlinewidth": 0,
              "ticks": ""
             }
            },
            "type": "scatter3d"
           }
          ],
          "scattercarpet": [
           {
            "marker": {
             "colorbar": {
              "outlinewidth": 0,
              "ticks": ""
             }
            },
            "type": "scattercarpet"
           }
          ],
          "scattergeo": [
           {
            "marker": {
             "colorbar": {
              "outlinewidth": 0,
              "ticks": ""
             }
            },
            "type": "scattergeo"
           }
          ],
          "scattergl": [
           {
            "marker": {
             "line": {
              "color": "#283442"
             }
            },
            "type": "scattergl"
           }
          ],
          "scattermapbox": [
           {
            "marker": {
             "colorbar": {
              "outlinewidth": 0,
              "ticks": ""
             }
            },
            "type": "scattermapbox"
           }
          ],
          "scatterpolar": [
           {
            "marker": {
             "colorbar": {
              "outlinewidth": 0,
              "ticks": ""
             }
            },
            "type": "scatterpolar"
           }
          ],
          "scatterpolargl": [
           {
            "marker": {
             "colorbar": {
              "outlinewidth": 0,
              "ticks": ""
             }
            },
            "type": "scatterpolargl"
           }
          ],
          "scatterternary": [
           {
            "marker": {
             "colorbar": {
              "outlinewidth": 0,
              "ticks": ""
             }
            },
            "type": "scatterternary"
           }
          ],
          "surface": [
           {
            "colorbar": {
             "outlinewidth": 0,
             "ticks": ""
            },
            "colorscale": [
             [
              0,
              "#0d0887"
             ],
             [
              0.1111111111111111,
              "#46039f"
             ],
             [
              0.2222222222222222,
              "#7201a8"
             ],
             [
              0.3333333333333333,
              "#9c179e"
             ],
             [
              0.4444444444444444,
              "#bd3786"
             ],
             [
              0.5555555555555556,
              "#d8576b"
             ],
             [
              0.6666666666666666,
              "#ed7953"
             ],
             [
              0.7777777777777778,
              "#fb9f3a"
             ],
             [
              0.8888888888888888,
              "#fdca26"
             ],
             [
              1,
              "#f0f921"
             ]
            ],
            "type": "surface"
           }
          ],
          "table": [
           {
            "cells": {
             "fill": {
              "color": "#506784"
             },
             "line": {
              "color": "rgb(17,17,17)"
             }
            },
            "header": {
             "fill": {
              "color": "#2a3f5f"
             },
             "line": {
              "color": "rgb(17,17,17)"
             }
            },
            "type": "table"
           }
          ]
         },
         "layout": {
          "annotationdefaults": {
           "arrowcolor": "#f2f5fa",
           "arrowhead": 0,
           "arrowwidth": 1
          },
          "autotypenumbers": "strict",
          "coloraxis": {
           "colorbar": {
            "outlinewidth": 0,
            "ticks": ""
           }
          },
          "colorscale": {
           "diverging": [
            [
             0,
             "#8e0152"
            ],
            [
             0.1,
             "#c51b7d"
            ],
            [
             0.2,
             "#de77ae"
            ],
            [
             0.3,
             "#f1b6da"
            ],
            [
             0.4,
             "#fde0ef"
            ],
            [
             0.5,
             "#f7f7f7"
            ],
            [
             0.6,
             "#e6f5d0"
            ],
            [
             0.7,
             "#b8e186"
            ],
            [
             0.8,
             "#7fbc41"
            ],
            [
             0.9,
             "#4d9221"
            ],
            [
             1,
             "#276419"
            ]
           ],
           "sequential": [
            [
             0,
             "#0d0887"
            ],
            [
             0.1111111111111111,
             "#46039f"
            ],
            [
             0.2222222222222222,
             "#7201a8"
            ],
            [
             0.3333333333333333,
             "#9c179e"
            ],
            [
             0.4444444444444444,
             "#bd3786"
            ],
            [
             0.5555555555555556,
             "#d8576b"
            ],
            [
             0.6666666666666666,
             "#ed7953"
            ],
            [
             0.7777777777777778,
             "#fb9f3a"
            ],
            [
             0.8888888888888888,
             "#fdca26"
            ],
            [
             1,
             "#f0f921"
            ]
           ],
           "sequentialminus": [
            [
             0,
             "#0d0887"
            ],
            [
             0.1111111111111111,
             "#46039f"
            ],
            [
             0.2222222222222222,
             "#7201a8"
            ],
            [
             0.3333333333333333,
             "#9c179e"
            ],
            [
             0.4444444444444444,
             "#bd3786"
            ],
            [
             0.5555555555555556,
             "#d8576b"
            ],
            [
             0.6666666666666666,
             "#ed7953"
            ],
            [
             0.7777777777777778,
             "#fb9f3a"
            ],
            [
             0.8888888888888888,
             "#fdca26"
            ],
            [
             1,
             "#f0f921"
            ]
           ]
          },
          "colorway": [
           "#636efa",
           "#EF553B",
           "#00cc96",
           "#ab63fa",
           "#FFA15A",
           "#19d3f3",
           "#FF6692",
           "#B6E880",
           "#FF97FF",
           "#FECB52"
          ],
          "font": {
           "color": "#f2f5fa"
          },
          "geo": {
           "bgcolor": "rgb(17,17,17)",
           "lakecolor": "rgb(17,17,17)",
           "landcolor": "rgb(17,17,17)",
           "showlakes": true,
           "showland": true,
           "subunitcolor": "#506784"
          },
          "hoverlabel": {
           "align": "left"
          },
          "hovermode": "closest",
          "mapbox": {
           "style": "dark"
          },
          "paper_bgcolor": "rgb(17,17,17)",
          "plot_bgcolor": "rgb(17,17,17)",
          "polar": {
           "angularaxis": {
            "gridcolor": "#506784",
            "linecolor": "#506784",
            "ticks": ""
           },
           "bgcolor": "rgb(17,17,17)",
           "radialaxis": {
            "gridcolor": "#506784",
            "linecolor": "#506784",
            "ticks": ""
           }
          },
          "scene": {
           "xaxis": {
            "backgroundcolor": "rgb(17,17,17)",
            "gridcolor": "#506784",
            "gridwidth": 2,
            "linecolor": "#506784",
            "showbackground": true,
            "ticks": "",
            "zerolinecolor": "#C8D4E3"
           },
           "yaxis": {
            "backgroundcolor": "rgb(17,17,17)",
            "gridcolor": "#506784",
            "gridwidth": 2,
            "linecolor": "#506784",
            "showbackground": true,
            "ticks": "",
            "zerolinecolor": "#C8D4E3"
           },
           "zaxis": {
            "backgroundcolor": "rgb(17,17,17)",
            "gridcolor": "#506784",
            "gridwidth": 2,
            "linecolor": "#506784",
            "showbackground": true,
            "ticks": "",
            "zerolinecolor": "#C8D4E3"
           }
          },
          "shapedefaults": {
           "line": {
            "color": "#f2f5fa"
           }
          },
          "sliderdefaults": {
           "bgcolor": "#C8D4E3",
           "bordercolor": "rgb(17,17,17)",
           "borderwidth": 1,
           "tickwidth": 0
          },
          "ternary": {
           "aaxis": {
            "gridcolor": "#506784",
            "linecolor": "#506784",
            "ticks": ""
           },
           "baxis": {
            "gridcolor": "#506784",
            "linecolor": "#506784",
            "ticks": ""
           },
           "bgcolor": "rgb(17,17,17)",
           "caxis": {
            "gridcolor": "#506784",
            "linecolor": "#506784",
            "ticks": ""
           }
          },
          "title": {
           "x": 0.05
          },
          "updatemenudefaults": {
           "bgcolor": "#506784",
           "borderwidth": 0
          },
          "xaxis": {
           "automargin": true,
           "gridcolor": "#283442",
           "linecolor": "#506784",
           "ticks": "",
           "title": {
            "standoff": 15
           },
           "zerolinecolor": "#283442",
           "zerolinewidth": 2
          },
          "yaxis": {
           "automargin": true,
           "gridcolor": "#283442",
           "linecolor": "#506784",
           "ticks": "",
           "title": {
            "standoff": 15
           },
           "zerolinecolor": "#283442",
           "zerolinewidth": 2
          }
         }
        },
        "title": {
         "text": "Média dos Preços das Placas de Vídeo"
        },
        "xaxis": {
         "tickangle": -45,
         "title": {
          "text": "Placas de Vídeo"
         }
        },
        "yaxis": {
         "title": {
          "text": "Valor à Vista (R$)"
         }
        }
       }
      }
     },
     "metadata": {},
     "output_type": "display_data"
    }
   ],
   "source": [
    "media_por_modelo = df.groupby('ModeloSimplificado')['ValorAV'].mean().reset_index()\n",
    "media_por_modelo = media_por_modelo.sort_values(by='ValorAV', ascending=False)\n",
    "\n",
    "# Criar o gráfico de barras com as médias dos preços\n",
    "fig = go.Figure(data=go.Bar(x=media_por_modelo['ModeloSimplificado'], y=media_por_modelo['ValorAV']))\n",
    "\n",
    "# Personalizar o layout do gráfico\n",
    "fig.update_layout(\n",
    "    title='Média dos Preços das Placas de Vídeo',\n",
    "    xaxis_title='Placas de Vídeo',\n",
    "    yaxis_title='Valor à Vista (R$)',\n",
    "    xaxis_tickangle=-45,\n",
    "    template='plotly_dark'\n",
    ")\n",
    "\n",
    "fig.show()"
   ]
  },
  {
   "attachments": {},
   "cell_type": "markdown",
   "metadata": {},
   "source": [
    "## 3. O quão mais caro é uma placa de vídeo com valor parcelado?"
   ]
  },
  {
   "cell_type": "code",
   "execution_count": 107,
   "metadata": {},
   "outputs": [
    {
     "data": {
      "text/html": [
       "<div>\n",
       "<style scoped>\n",
       "    .dataframe tbody tr th:only-of-type {\n",
       "        vertical-align: middle;\n",
       "    }\n",
       "\n",
       "    .dataframe tbody tr th {\n",
       "        vertical-align: top;\n",
       "    }\n",
       "\n",
       "    .dataframe thead th {\n",
       "        text-align: right;\n",
       "    }\n",
       "</style>\n",
       "<table border=\"1\" class=\"dataframe\">\n",
       "  <thead>\n",
       "    <tr style=\"text-align: right;\">\n",
       "      <th></th>\n",
       "      <th>ModeloSimplificado</th>\n",
       "      <th>ValorAV</th>\n",
       "      <th>ValorParc</th>\n",
       "      <th>Diferenca</th>\n",
       "    </tr>\n",
       "  </thead>\n",
       "  <tbody>\n",
       "    <tr>\n",
       "      <th>3</th>\n",
       "      <td>GTX 1650</td>\n",
       "      <td>987.697500</td>\n",
       "      <td>1164.586250</td>\n",
       "      <td>15.188978</td>\n",
       "    </tr>\n",
       "    <tr>\n",
       "      <th>1</th>\n",
       "      <td>Arc A750</td>\n",
       "      <td>2049.000000</td>\n",
       "      <td>2410.590000</td>\n",
       "      <td>15.000062</td>\n",
       "    </tr>\n",
       "    <tr>\n",
       "      <th>2</th>\n",
       "      <td>Arc A770</td>\n",
       "      <td>2399.000000</td>\n",
       "      <td>2822.350000</td>\n",
       "      <td>14.999911</td>\n",
       "    </tr>\n",
       "    <tr>\n",
       "      <th>0</th>\n",
       "      <td>Arc A380</td>\n",
       "      <td>929.000000</td>\n",
       "      <td>1092.940000</td>\n",
       "      <td>14.999909</td>\n",
       "    </tr>\n",
       "    <tr>\n",
       "      <th>35</th>\n",
       "      <td>RX 6750XT</td>\n",
       "      <td>3104.983333</td>\n",
       "      <td>3635.516667</td>\n",
       "      <td>14.593066</td>\n",
       "    </tr>\n",
       "    <tr>\n",
       "      <th>33</th>\n",
       "      <td>RX 6650XT</td>\n",
       "      <td>2396.428667</td>\n",
       "      <td>2805.452000</td>\n",
       "      <td>14.579588</td>\n",
       "    </tr>\n",
       "    <tr>\n",
       "      <th>41</th>\n",
       "      <td>RX 7900 XTX</td>\n",
       "      <td>8005.747500</td>\n",
       "      <td>9328.480000</td>\n",
       "      <td>14.179507</td>\n",
       "    </tr>\n",
       "    <tr>\n",
       "      <th>34</th>\n",
       "      <td>RX 6700XT</td>\n",
       "      <td>2706.983333</td>\n",
       "      <td>3144.260000</td>\n",
       "      <td>13.907141</td>\n",
       "    </tr>\n",
       "    <tr>\n",
       "      <th>26</th>\n",
       "      <td>RX 570</td>\n",
       "      <td>1310.378333</td>\n",
       "      <td>1518.093333</td>\n",
       "      <td>13.682624</td>\n",
       "    </tr>\n",
       "    <tr>\n",
       "      <th>6</th>\n",
       "      <td>GTX 1660 Super</td>\n",
       "      <td>1605.919412</td>\n",
       "      <td>1859.941765</td>\n",
       "      <td>13.657543</td>\n",
       "    </tr>\n",
       "    <tr>\n",
       "      <th>13</th>\n",
       "      <td>RTX 3060Ti</td>\n",
       "      <td>2532.150217</td>\n",
       "      <td>2924.733478</td>\n",
       "      <td>13.422873</td>\n",
       "    </tr>\n",
       "    <tr>\n",
       "      <th>24</th>\n",
       "      <td>RTX 4080</td>\n",
       "      <td>8407.567119</td>\n",
       "      <td>9677.628136</td>\n",
       "      <td>13.123681</td>\n",
       "    </tr>\n",
       "    <tr>\n",
       "      <th>25</th>\n",
       "      <td>RTX 4090</td>\n",
       "      <td>11652.237674</td>\n",
       "      <td>13375.587907</td>\n",
       "      <td>12.884295</td>\n",
       "    </tr>\n",
       "    <tr>\n",
       "      <th>40</th>\n",
       "      <td>RX 7900 XT</td>\n",
       "      <td>7224.027895</td>\n",
       "      <td>8176.186842</td>\n",
       "      <td>11.645514</td>\n",
       "    </tr>\n",
       "    <tr>\n",
       "      <th>15</th>\n",
       "      <td>RTX 3070Ti</td>\n",
       "      <td>4410.103333</td>\n",
       "      <td>4988.158333</td>\n",
       "      <td>11.588546</td>\n",
       "    </tr>\n",
       "    <tr>\n",
       "      <th>22</th>\n",
       "      <td>RTX 4070</td>\n",
       "      <td>4816.926667</td>\n",
       "      <td>5448.283333</td>\n",
       "      <td>11.588176</td>\n",
       "    </tr>\n",
       "    <tr>\n",
       "      <th>31</th>\n",
       "      <td>RX 6600</td>\n",
       "      <td>1568.640714</td>\n",
       "      <td>1771.950714</td>\n",
       "      <td>11.473795</td>\n",
       "    </tr>\n",
       "    <tr>\n",
       "      <th>5</th>\n",
       "      <td>GTX 1660</td>\n",
       "      <td>1563.242500</td>\n",
       "      <td>1765.252500</td>\n",
       "      <td>11.443689</td>\n",
       "    </tr>\n",
       "    <tr>\n",
       "      <th>23</th>\n",
       "      <td>RTX 4070Ti</td>\n",
       "      <td>6468.631325</td>\n",
       "      <td>7304.296627</td>\n",
       "      <td>11.440736</td>\n",
       "    </tr>\n",
       "    <tr>\n",
       "      <th>8</th>\n",
       "      <td>RTX 2060</td>\n",
       "      <td>2075.744667</td>\n",
       "      <td>2322.416667</td>\n",
       "      <td>10.621350</td>\n",
       "    </tr>\n",
       "    <tr>\n",
       "      <th>10</th>\n",
       "      <td>RTX 3050</td>\n",
       "      <td>1883.264231</td>\n",
       "      <td>2081.882692</td>\n",
       "      <td>9.540329</td>\n",
       "    </tr>\n",
       "    <tr>\n",
       "      <th>7</th>\n",
       "      <td>GTX 1660Ti</td>\n",
       "      <td>1595.225000</td>\n",
       "      <td>1752.083750</td>\n",
       "      <td>8.952697</td>\n",
       "    </tr>\n",
       "    <tr>\n",
       "      <th>12</th>\n",
       "      <td>RTX 3060 8GB</td>\n",
       "      <td>2055.605556</td>\n",
       "      <td>2251.162963</td>\n",
       "      <td>8.686950</td>\n",
       "    </tr>\n",
       "    <tr>\n",
       "      <th>4</th>\n",
       "      <td>GTX 1650 Super</td>\n",
       "      <td>1886.524000</td>\n",
       "      <td>2050.168000</td>\n",
       "      <td>7.981980</td>\n",
       "    </tr>\n",
       "    <tr>\n",
       "      <th>14</th>\n",
       "      <td>RTX 3070</td>\n",
       "      <td>3846.957368</td>\n",
       "      <td>4169.210526</td>\n",
       "      <td>7.729357</td>\n",
       "    </tr>\n",
       "    <tr>\n",
       "      <th>39</th>\n",
       "      <td>RX 7600</td>\n",
       "      <td>2398.325000</td>\n",
       "      <td>2584.025000</td>\n",
       "      <td>7.186463</td>\n",
       "    </tr>\n",
       "    <tr>\n",
       "      <th>19</th>\n",
       "      <td>RTX 3090</td>\n",
       "      <td>14251.922667</td>\n",
       "      <td>15307.148000</td>\n",
       "      <td>6.893677</td>\n",
       "    </tr>\n",
       "    <tr>\n",
       "      <th>11</th>\n",
       "      <td>RTX 3060 12GB</td>\n",
       "      <td>2285.580143</td>\n",
       "      <td>2447.370714</td>\n",
       "      <td>6.610791</td>\n",
       "    </tr>\n",
       "    <tr>\n",
       "      <th>17</th>\n",
       "      <td>RTX 3080 12GB</td>\n",
       "      <td>9107.819412</td>\n",
       "      <td>9706.231765</td>\n",
       "      <td>6.165239</td>\n",
       "    </tr>\n",
       "    <tr>\n",
       "      <th>30</th>\n",
       "      <td>RX 6500XT</td>\n",
       "      <td>1788.154583</td>\n",
       "      <td>1903.830833</td>\n",
       "      <td>6.075973</td>\n",
       "    </tr>\n",
       "    <tr>\n",
       "      <th>28</th>\n",
       "      <td>RX 580</td>\n",
       "      <td>3324.663000</td>\n",
       "      <td>3528.832000</td>\n",
       "      <td>5.785739</td>\n",
       "    </tr>\n",
       "    <tr>\n",
       "      <th>36</th>\n",
       "      <td>RX 6800</td>\n",
       "      <td>6536.646000</td>\n",
       "      <td>6920.166000</td>\n",
       "      <td>5.542064</td>\n",
       "    </tr>\n",
       "    <tr>\n",
       "      <th>32</th>\n",
       "      <td>RX 6600XT</td>\n",
       "      <td>3167.669000</td>\n",
       "      <td>3351.467000</td>\n",
       "      <td>5.484106</td>\n",
       "    </tr>\n",
       "    <tr>\n",
       "      <th>29</th>\n",
       "      <td>RX 6400</td>\n",
       "      <td>1770.643846</td>\n",
       "      <td>1865.859231</td>\n",
       "      <td>5.103032</td>\n",
       "    </tr>\n",
       "    <tr>\n",
       "      <th>37</th>\n",
       "      <td>RX 6800XT</td>\n",
       "      <td>6596.642000</td>\n",
       "      <td>6940.228000</td>\n",
       "      <td>4.950644</td>\n",
       "    </tr>\n",
       "    <tr>\n",
       "      <th>21</th>\n",
       "      <td>RTX 4060Ti</td>\n",
       "      <td>3601.227222</td>\n",
       "      <td>3743.567778</td>\n",
       "      <td>3.802270</td>\n",
       "    </tr>\n",
       "    <tr>\n",
       "      <th>20</th>\n",
       "      <td>RTX 3090Ti</td>\n",
       "      <td>13202.341667</td>\n",
       "      <td>13575.590000</td>\n",
       "      <td>2.749408</td>\n",
       "    </tr>\n",
       "    <tr>\n",
       "      <th>38</th>\n",
       "      <td>RX 6900XT</td>\n",
       "      <td>9366.492500</td>\n",
       "      <td>9605.850000</td>\n",
       "      <td>2.491789</td>\n",
       "    </tr>\n",
       "    <tr>\n",
       "      <th>27</th>\n",
       "      <td>RX 5700XT</td>\n",
       "      <td>3500.000000</td>\n",
       "      <td>3500.000000</td>\n",
       "      <td>0.000000</td>\n",
       "    </tr>\n",
       "    <tr>\n",
       "      <th>16</th>\n",
       "      <td>RTX 3080 10GB</td>\n",
       "      <td>5214.305833</td>\n",
       "      <td>5135.760833</td>\n",
       "      <td>-1.529374</td>\n",
       "    </tr>\n",
       "    <tr>\n",
       "      <th>18</th>\n",
       "      <td>RTX 3080Ti</td>\n",
       "      <td>5839.480000</td>\n",
       "      <td>5378.593333</td>\n",
       "      <td>-8.568907</td>\n",
       "    </tr>\n",
       "    <tr>\n",
       "      <th>9</th>\n",
       "      <td>RTX 2060 Super</td>\n",
       "      <td>2509.884286</td>\n",
       "      <td>2286.975714</td>\n",
       "      <td>-9.746871</td>\n",
       "    </tr>\n",
       "  </tbody>\n",
       "</table>\n",
       "</div>"
      ],
      "text/plain": [
       "   ModeloSimplificado       ValorAV     ValorParc  Diferenca\n",
       "3            GTX 1650    987.697500   1164.586250  15.188978\n",
       "1            Arc A750   2049.000000   2410.590000  15.000062\n",
       "2            Arc A770   2399.000000   2822.350000  14.999911\n",
       "0            Arc A380    929.000000   1092.940000  14.999909\n",
       "35          RX 6750XT   3104.983333   3635.516667  14.593066\n",
       "33          RX 6650XT   2396.428667   2805.452000  14.579588\n",
       "41        RX 7900 XTX   8005.747500   9328.480000  14.179507\n",
       "34          RX 6700XT   2706.983333   3144.260000  13.907141\n",
       "26             RX 570   1310.378333   1518.093333  13.682624\n",
       "6      GTX 1660 Super   1605.919412   1859.941765  13.657543\n",
       "13         RTX 3060Ti   2532.150217   2924.733478  13.422873\n",
       "24           RTX 4080   8407.567119   9677.628136  13.123681\n",
       "25           RTX 4090  11652.237674  13375.587907  12.884295\n",
       "40         RX 7900 XT   7224.027895   8176.186842  11.645514\n",
       "15         RTX 3070Ti   4410.103333   4988.158333  11.588546\n",
       "22           RTX 4070   4816.926667   5448.283333  11.588176\n",
       "31            RX 6600   1568.640714   1771.950714  11.473795\n",
       "5            GTX 1660   1563.242500   1765.252500  11.443689\n",
       "23         RTX 4070Ti   6468.631325   7304.296627  11.440736\n",
       "8            RTX 2060   2075.744667   2322.416667  10.621350\n",
       "10           RTX 3050   1883.264231   2081.882692   9.540329\n",
       "7          GTX 1660Ti   1595.225000   1752.083750   8.952697\n",
       "12       RTX 3060 8GB   2055.605556   2251.162963   8.686950\n",
       "4      GTX 1650 Super   1886.524000   2050.168000   7.981980\n",
       "14           RTX 3070   3846.957368   4169.210526   7.729357\n",
       "39            RX 7600   2398.325000   2584.025000   7.186463\n",
       "19           RTX 3090  14251.922667  15307.148000   6.893677\n",
       "11      RTX 3060 12GB   2285.580143   2447.370714   6.610791\n",
       "17      RTX 3080 12GB   9107.819412   9706.231765   6.165239\n",
       "30          RX 6500XT   1788.154583   1903.830833   6.075973\n",
       "28             RX 580   3324.663000   3528.832000   5.785739\n",
       "36            RX 6800   6536.646000   6920.166000   5.542064\n",
       "32          RX 6600XT   3167.669000   3351.467000   5.484106\n",
       "29            RX 6400   1770.643846   1865.859231   5.103032\n",
       "37          RX 6800XT   6596.642000   6940.228000   4.950644\n",
       "21         RTX 4060Ti   3601.227222   3743.567778   3.802270\n",
       "20         RTX 3090Ti  13202.341667  13575.590000   2.749408\n",
       "38          RX 6900XT   9366.492500   9605.850000   2.491789\n",
       "27          RX 5700XT   3500.000000   3500.000000   0.000000\n",
       "16      RTX 3080 10GB   5214.305833   5135.760833  -1.529374\n",
       "18         RTX 3080Ti   5839.480000   5378.593333  -8.568907\n",
       "9      RTX 2060 Super   2509.884286   2286.975714  -9.746871"
      ]
     },
     "execution_count": 107,
     "metadata": {},
     "output_type": "execute_result"
    }
   ],
   "source": [
    "diferenca = df.groupby('ModeloSimplificado')[['ValorAV', 'ValorParc']].mean().reset_index()\n",
    "diferenca['Diferenca'] = (diferenca['ValorParc'] - diferenca['ValorAV']) / diferenca['ValorParc'] * 100\n",
    "diferenca.sort_values(by='Diferenca', ascending=False)\n"
   ]
  },
  {
   "cell_type": "code",
   "execution_count": 110,
   "metadata": {},
   "outputs": [
    {
     "data": {
      "application/vnd.plotly.v1+json": {
       "config": {
        "plotlyServerURL": "https://plot.ly"
       },
       "data": [
        {
         "type": "bar",
         "x": [
          "GTX 1650",
          "Arc A750",
          "Arc A770",
          "Arc A380",
          "RX 6750XT",
          "RX 6650XT",
          "RX 7900 XTX",
          "RX 6700XT",
          "RX 570",
          "GTX 1660 Super",
          "RTX 3060Ti",
          "RTX 4080",
          "RTX 4090",
          "RX 7900 XT",
          "RTX 3070Ti",
          "RTX 4070",
          "RX 6600",
          "GTX 1660",
          "RTX 4070Ti",
          "RTX 2060",
          "RTX 3050",
          "GTX 1660Ti",
          "RTX 3060 8GB",
          "GTX 1650 Super",
          "RTX 3070",
          "RX 7600",
          "RTX 3090",
          "RTX 3060 12GB",
          "RTX 3080 12GB",
          "RX 6500XT",
          "RX 580",
          "RX 6800",
          "RX 6600XT",
          "RX 6400",
          "RX 6800XT",
          "RTX 4060Ti",
          "RTX 3090Ti",
          "RX 6900XT",
          "RX 5700XT",
          "RTX 3080 10GB",
          "RTX 3080Ti",
          "RTX 2060 Super"
         ],
         "y": [
          15.188978059804507,
          15.000062225430295,
          14.999911421333284,
          14.999908503669007,
          14.5930656348708,
          14.57958765052238,
          14.179507272353046,
          13.907140842890445,
          13.68262381759575,
          13.657543357619344,
          13.422873016894748,
          13.123680711371946,
          12.884295214113441,
          11.645513559756802,
          11.588545538684123,
          11.58817609216357,
          11.473795425622523,
          11.443688650773755,
          11.440736102807419,
          10.621349886971169,
          9.540329158426305,
          8.952697038597618,
          8.686950284132978,
          7.9819800133452485,
          7.729356813734762,
          7.186462979266851,
          6.893676949705667,
          6.610791347799207,
          6.165238657468945,
          6.075973136618854,
          5.785738737349906,
          5.54206358633594,
          5.484105915409574,
          5.103031517341776,
          4.95064427278182,
          3.8022700270182055,
          2.749407821931358,
          2.4917888578314265,
          0,
          -1.5293741774384952,
          -8.568907112020609,
          -9.746870945596884
         ]
        }
       ],
       "layout": {
        "template": {
         "data": {
          "bar": [
           {
            "error_x": {
             "color": "#f2f5fa"
            },
            "error_y": {
             "color": "#f2f5fa"
            },
            "marker": {
             "line": {
              "color": "rgb(17,17,17)",
              "width": 0.5
             },
             "pattern": {
              "fillmode": "overlay",
              "size": 10,
              "solidity": 0.2
             }
            },
            "type": "bar"
           }
          ],
          "barpolar": [
           {
            "marker": {
             "line": {
              "color": "rgb(17,17,17)",
              "width": 0.5
             },
             "pattern": {
              "fillmode": "overlay",
              "size": 10,
              "solidity": 0.2
             }
            },
            "type": "barpolar"
           }
          ],
          "carpet": [
           {
            "aaxis": {
             "endlinecolor": "#A2B1C6",
             "gridcolor": "#506784",
             "linecolor": "#506784",
             "minorgridcolor": "#506784",
             "startlinecolor": "#A2B1C6"
            },
            "baxis": {
             "endlinecolor": "#A2B1C6",
             "gridcolor": "#506784",
             "linecolor": "#506784",
             "minorgridcolor": "#506784",
             "startlinecolor": "#A2B1C6"
            },
            "type": "carpet"
           }
          ],
          "choropleth": [
           {
            "colorbar": {
             "outlinewidth": 0,
             "ticks": ""
            },
            "type": "choropleth"
           }
          ],
          "contour": [
           {
            "colorbar": {
             "outlinewidth": 0,
             "ticks": ""
            },
            "colorscale": [
             [
              0,
              "#0d0887"
             ],
             [
              0.1111111111111111,
              "#46039f"
             ],
             [
              0.2222222222222222,
              "#7201a8"
             ],
             [
              0.3333333333333333,
              "#9c179e"
             ],
             [
              0.4444444444444444,
              "#bd3786"
             ],
             [
              0.5555555555555556,
              "#d8576b"
             ],
             [
              0.6666666666666666,
              "#ed7953"
             ],
             [
              0.7777777777777778,
              "#fb9f3a"
             ],
             [
              0.8888888888888888,
              "#fdca26"
             ],
             [
              1,
              "#f0f921"
             ]
            ],
            "type": "contour"
           }
          ],
          "contourcarpet": [
           {
            "colorbar": {
             "outlinewidth": 0,
             "ticks": ""
            },
            "type": "contourcarpet"
           }
          ],
          "heatmap": [
           {
            "colorbar": {
             "outlinewidth": 0,
             "ticks": ""
            },
            "colorscale": [
             [
              0,
              "#0d0887"
             ],
             [
              0.1111111111111111,
              "#46039f"
             ],
             [
              0.2222222222222222,
              "#7201a8"
             ],
             [
              0.3333333333333333,
              "#9c179e"
             ],
             [
              0.4444444444444444,
              "#bd3786"
             ],
             [
              0.5555555555555556,
              "#d8576b"
             ],
             [
              0.6666666666666666,
              "#ed7953"
             ],
             [
              0.7777777777777778,
              "#fb9f3a"
             ],
             [
              0.8888888888888888,
              "#fdca26"
             ],
             [
              1,
              "#f0f921"
             ]
            ],
            "type": "heatmap"
           }
          ],
          "heatmapgl": [
           {
            "colorbar": {
             "outlinewidth": 0,
             "ticks": ""
            },
            "colorscale": [
             [
              0,
              "#0d0887"
             ],
             [
              0.1111111111111111,
              "#46039f"
             ],
             [
              0.2222222222222222,
              "#7201a8"
             ],
             [
              0.3333333333333333,
              "#9c179e"
             ],
             [
              0.4444444444444444,
              "#bd3786"
             ],
             [
              0.5555555555555556,
              "#d8576b"
             ],
             [
              0.6666666666666666,
              "#ed7953"
             ],
             [
              0.7777777777777778,
              "#fb9f3a"
             ],
             [
              0.8888888888888888,
              "#fdca26"
             ],
             [
              1,
              "#f0f921"
             ]
            ],
            "type": "heatmapgl"
           }
          ],
          "histogram": [
           {
            "marker": {
             "pattern": {
              "fillmode": "overlay",
              "size": 10,
              "solidity": 0.2
             }
            },
            "type": "histogram"
           }
          ],
          "histogram2d": [
           {
            "colorbar": {
             "outlinewidth": 0,
             "ticks": ""
            },
            "colorscale": [
             [
              0,
              "#0d0887"
             ],
             [
              0.1111111111111111,
              "#46039f"
             ],
             [
              0.2222222222222222,
              "#7201a8"
             ],
             [
              0.3333333333333333,
              "#9c179e"
             ],
             [
              0.4444444444444444,
              "#bd3786"
             ],
             [
              0.5555555555555556,
              "#d8576b"
             ],
             [
              0.6666666666666666,
              "#ed7953"
             ],
             [
              0.7777777777777778,
              "#fb9f3a"
             ],
             [
              0.8888888888888888,
              "#fdca26"
             ],
             [
              1,
              "#f0f921"
             ]
            ],
            "type": "histogram2d"
           }
          ],
          "histogram2dcontour": [
           {
            "colorbar": {
             "outlinewidth": 0,
             "ticks": ""
            },
            "colorscale": [
             [
              0,
              "#0d0887"
             ],
             [
              0.1111111111111111,
              "#46039f"
             ],
             [
              0.2222222222222222,
              "#7201a8"
             ],
             [
              0.3333333333333333,
              "#9c179e"
             ],
             [
              0.4444444444444444,
              "#bd3786"
             ],
             [
              0.5555555555555556,
              "#d8576b"
             ],
             [
              0.6666666666666666,
              "#ed7953"
             ],
             [
              0.7777777777777778,
              "#fb9f3a"
             ],
             [
              0.8888888888888888,
              "#fdca26"
             ],
             [
              1,
              "#f0f921"
             ]
            ],
            "type": "histogram2dcontour"
           }
          ],
          "mesh3d": [
           {
            "colorbar": {
             "outlinewidth": 0,
             "ticks": ""
            },
            "type": "mesh3d"
           }
          ],
          "parcoords": [
           {
            "line": {
             "colorbar": {
              "outlinewidth": 0,
              "ticks": ""
             }
            },
            "type": "parcoords"
           }
          ],
          "pie": [
           {
            "automargin": true,
            "type": "pie"
           }
          ],
          "scatter": [
           {
            "marker": {
             "line": {
              "color": "#283442"
             }
            },
            "type": "scatter"
           }
          ],
          "scatter3d": [
           {
            "line": {
             "colorbar": {
              "outlinewidth": 0,
              "ticks": ""
             }
            },
            "marker": {
             "colorbar": {
              "outlinewidth": 0,
              "ticks": ""
             }
            },
            "type": "scatter3d"
           }
          ],
          "scattercarpet": [
           {
            "marker": {
             "colorbar": {
              "outlinewidth": 0,
              "ticks": ""
             }
            },
            "type": "scattercarpet"
           }
          ],
          "scattergeo": [
           {
            "marker": {
             "colorbar": {
              "outlinewidth": 0,
              "ticks": ""
             }
            },
            "type": "scattergeo"
           }
          ],
          "scattergl": [
           {
            "marker": {
             "line": {
              "color": "#283442"
             }
            },
            "type": "scattergl"
           }
          ],
          "scattermapbox": [
           {
            "marker": {
             "colorbar": {
              "outlinewidth": 0,
              "ticks": ""
             }
            },
            "type": "scattermapbox"
           }
          ],
          "scatterpolar": [
           {
            "marker": {
             "colorbar": {
              "outlinewidth": 0,
              "ticks": ""
             }
            },
            "type": "scatterpolar"
           }
          ],
          "scatterpolargl": [
           {
            "marker": {
             "colorbar": {
              "outlinewidth": 0,
              "ticks": ""
             }
            },
            "type": "scatterpolargl"
           }
          ],
          "scatterternary": [
           {
            "marker": {
             "colorbar": {
              "outlinewidth": 0,
              "ticks": ""
             }
            },
            "type": "scatterternary"
           }
          ],
          "surface": [
           {
            "colorbar": {
             "outlinewidth": 0,
             "ticks": ""
            },
            "colorscale": [
             [
              0,
              "#0d0887"
             ],
             [
              0.1111111111111111,
              "#46039f"
             ],
             [
              0.2222222222222222,
              "#7201a8"
             ],
             [
              0.3333333333333333,
              "#9c179e"
             ],
             [
              0.4444444444444444,
              "#bd3786"
             ],
             [
              0.5555555555555556,
              "#d8576b"
             ],
             [
              0.6666666666666666,
              "#ed7953"
             ],
             [
              0.7777777777777778,
              "#fb9f3a"
             ],
             [
              0.8888888888888888,
              "#fdca26"
             ],
             [
              1,
              "#f0f921"
             ]
            ],
            "type": "surface"
           }
          ],
          "table": [
           {
            "cells": {
             "fill": {
              "color": "#506784"
             },
             "line": {
              "color": "rgb(17,17,17)"
             }
            },
            "header": {
             "fill": {
              "color": "#2a3f5f"
             },
             "line": {
              "color": "rgb(17,17,17)"
             }
            },
            "type": "table"
           }
          ]
         },
         "layout": {
          "annotationdefaults": {
           "arrowcolor": "#f2f5fa",
           "arrowhead": 0,
           "arrowwidth": 1
          },
          "autotypenumbers": "strict",
          "coloraxis": {
           "colorbar": {
            "outlinewidth": 0,
            "ticks": ""
           }
          },
          "colorscale": {
           "diverging": [
            [
             0,
             "#8e0152"
            ],
            [
             0.1,
             "#c51b7d"
            ],
            [
             0.2,
             "#de77ae"
            ],
            [
             0.3,
             "#f1b6da"
            ],
            [
             0.4,
             "#fde0ef"
            ],
            [
             0.5,
             "#f7f7f7"
            ],
            [
             0.6,
             "#e6f5d0"
            ],
            [
             0.7,
             "#b8e186"
            ],
            [
             0.8,
             "#7fbc41"
            ],
            [
             0.9,
             "#4d9221"
            ],
            [
             1,
             "#276419"
            ]
           ],
           "sequential": [
            [
             0,
             "#0d0887"
            ],
            [
             0.1111111111111111,
             "#46039f"
            ],
            [
             0.2222222222222222,
             "#7201a8"
            ],
            [
             0.3333333333333333,
             "#9c179e"
            ],
            [
             0.4444444444444444,
             "#bd3786"
            ],
            [
             0.5555555555555556,
             "#d8576b"
            ],
            [
             0.6666666666666666,
             "#ed7953"
            ],
            [
             0.7777777777777778,
             "#fb9f3a"
            ],
            [
             0.8888888888888888,
             "#fdca26"
            ],
            [
             1,
             "#f0f921"
            ]
           ],
           "sequentialminus": [
            [
             0,
             "#0d0887"
            ],
            [
             0.1111111111111111,
             "#46039f"
            ],
            [
             0.2222222222222222,
             "#7201a8"
            ],
            [
             0.3333333333333333,
             "#9c179e"
            ],
            [
             0.4444444444444444,
             "#bd3786"
            ],
            [
             0.5555555555555556,
             "#d8576b"
            ],
            [
             0.6666666666666666,
             "#ed7953"
            ],
            [
             0.7777777777777778,
             "#fb9f3a"
            ],
            [
             0.8888888888888888,
             "#fdca26"
            ],
            [
             1,
             "#f0f921"
            ]
           ]
          },
          "colorway": [
           "#636efa",
           "#EF553B",
           "#00cc96",
           "#ab63fa",
           "#FFA15A",
           "#19d3f3",
           "#FF6692",
           "#B6E880",
           "#FF97FF",
           "#FECB52"
          ],
          "font": {
           "color": "#f2f5fa"
          },
          "geo": {
           "bgcolor": "rgb(17,17,17)",
           "lakecolor": "rgb(17,17,17)",
           "landcolor": "rgb(17,17,17)",
           "showlakes": true,
           "showland": true,
           "subunitcolor": "#506784"
          },
          "hoverlabel": {
           "align": "left"
          },
          "hovermode": "closest",
          "mapbox": {
           "style": "dark"
          },
          "paper_bgcolor": "rgb(17,17,17)",
          "plot_bgcolor": "rgb(17,17,17)",
          "polar": {
           "angularaxis": {
            "gridcolor": "#506784",
            "linecolor": "#506784",
            "ticks": ""
           },
           "bgcolor": "rgb(17,17,17)",
           "radialaxis": {
            "gridcolor": "#506784",
            "linecolor": "#506784",
            "ticks": ""
           }
          },
          "scene": {
           "xaxis": {
            "backgroundcolor": "rgb(17,17,17)",
            "gridcolor": "#506784",
            "gridwidth": 2,
            "linecolor": "#506784",
            "showbackground": true,
            "ticks": "",
            "zerolinecolor": "#C8D4E3"
           },
           "yaxis": {
            "backgroundcolor": "rgb(17,17,17)",
            "gridcolor": "#506784",
            "gridwidth": 2,
            "linecolor": "#506784",
            "showbackground": true,
            "ticks": "",
            "zerolinecolor": "#C8D4E3"
           },
           "zaxis": {
            "backgroundcolor": "rgb(17,17,17)",
            "gridcolor": "#506784",
            "gridwidth": 2,
            "linecolor": "#506784",
            "showbackground": true,
            "ticks": "",
            "zerolinecolor": "#C8D4E3"
           }
          },
          "shapedefaults": {
           "line": {
            "color": "#f2f5fa"
           }
          },
          "sliderdefaults": {
           "bgcolor": "#C8D4E3",
           "bordercolor": "rgb(17,17,17)",
           "borderwidth": 1,
           "tickwidth": 0
          },
          "ternary": {
           "aaxis": {
            "gridcolor": "#506784",
            "linecolor": "#506784",
            "ticks": ""
           },
           "baxis": {
            "gridcolor": "#506784",
            "linecolor": "#506784",
            "ticks": ""
           },
           "bgcolor": "rgb(17,17,17)",
           "caxis": {
            "gridcolor": "#506784",
            "linecolor": "#506784",
            "ticks": ""
           }
          },
          "title": {
           "x": 0.05
          },
          "updatemenudefaults": {
           "bgcolor": "#506784",
           "borderwidth": 0
          },
          "xaxis": {
           "automargin": true,
           "gridcolor": "#283442",
           "linecolor": "#506784",
           "ticks": "",
           "title": {
            "standoff": 15
           },
           "zerolinecolor": "#283442",
           "zerolinewidth": 2
          },
          "yaxis": {
           "automargin": true,
           "gridcolor": "#283442",
           "linecolor": "#506784",
           "ticks": "",
           "title": {
            "standoff": 15
           },
           "zerolinecolor": "#283442",
           "zerolinewidth": 2
          }
         }
        },
        "title": {
         "text": "Diferença Percetual das Placas de Vídeo"
        },
        "xaxis": {
         "tickangle": -45,
         "title": {
          "text": "Placas de Vídeo"
         }
        },
        "yaxis": {
         "title": {
          "text": "Diferença Percentual"
         }
        }
       }
      }
     },
     "metadata": {},
     "output_type": "display_data"
    }
   ],
   "source": [
    "diferenca = diferenca.sort_values(by='Diferenca', ascending=False)\n",
    "\n",
    "# Criar o gráfico de barras com as médias dos preços\n",
    "fig = go.Figure(data=go.Bar(x=diferenca['ModeloSimplificado'], y=diferenca['Diferenca']))\n",
    "\n",
    "# Personalizar o layout do gráfico\n",
    "fig.update_layout(\n",
    "    title='Diferença Percetual das Placas de Vídeo',\n",
    "    xaxis_title='Placas de Vídeo',\n",
    "    yaxis_title='Diferença Percentual',\n",
    "    xaxis_tickangle=-45,\n",
    "    template='plotly_dark'\n",
    ")\n",
    "\n",
    "fig.show()"
   ]
  },
  {
   "attachments": {},
   "cell_type": "markdown",
   "metadata": {},
   "source": [
    "## 4. Qual a média do ValorAV das placas de vídeo das 3 lojas que mais vendem?"
   ]
  },
  {
   "cell_type": "code",
   "execution_count": 163,
   "metadata": {},
   "outputs": [
    {
     "data": {
      "text/html": [
       "<div>\n",
       "<style scoped>\n",
       "    .dataframe tbody tr th:only-of-type {\n",
       "        vertical-align: middle;\n",
       "    }\n",
       "\n",
       "    .dataframe tbody tr th {\n",
       "        vertical-align: top;\n",
       "    }\n",
       "\n",
       "    .dataframe thead th {\n",
       "        text-align: right;\n",
       "    }\n",
       "</style>\n",
       "<table border=\"1\" class=\"dataframe\">\n",
       "  <thead>\n",
       "    <tr style=\"text-align: right;\">\n",
       "      <th></th>\n",
       "      <th>Loja</th>\n",
       "      <th>Ocorrencias</th>\n",
       "    </tr>\n",
       "  </thead>\n",
       "  <tbody>\n",
       "    <tr>\n",
       "      <th>0</th>\n",
       "      <td>MagaLu</td>\n",
       "      <td>186</td>\n",
       "    </tr>\n",
       "    <tr>\n",
       "      <th>1</th>\n",
       "      <td>Kabum</td>\n",
       "      <td>175</td>\n",
       "    </tr>\n",
       "    <tr>\n",
       "      <th>2</th>\n",
       "      <td>Pichau</td>\n",
       "      <td>119</td>\n",
       "    </tr>\n",
       "    <tr>\n",
       "      <th>3</th>\n",
       "      <td>Amazon</td>\n",
       "      <td>110</td>\n",
       "    </tr>\n",
       "    <tr>\n",
       "      <th>4</th>\n",
       "      <td>Terabyte</td>\n",
       "      <td>90</td>\n",
       "    </tr>\n",
       "    <tr>\n",
       "      <th>5</th>\n",
       "      <td>ITX Gamer</td>\n",
       "      <td>38</td>\n",
       "    </tr>\n",
       "    <tr>\n",
       "      <th>6</th>\n",
       "      <td>GKInfoStore</td>\n",
       "      <td>32</td>\n",
       "    </tr>\n",
       "    <tr>\n",
       "      <th>7</th>\n",
       "      <td>Imperiums</td>\n",
       "      <td>15</td>\n",
       "    </tr>\n",
       "    <tr>\n",
       "      <th>8</th>\n",
       "      <td>GuerraDigital</td>\n",
       "      <td>12</td>\n",
       "    </tr>\n",
       "    <tr>\n",
       "      <th>9</th>\n",
       "      <td>Patoloco</td>\n",
       "      <td>12</td>\n",
       "    </tr>\n",
       "    <tr>\n",
       "      <th>10</th>\n",
       "      <td>FGTec</td>\n",
       "      <td>11</td>\n",
       "    </tr>\n",
       "    <tr>\n",
       "      <th>11</th>\n",
       "      <td>Inpower</td>\n",
       "      <td>9</td>\n",
       "    </tr>\n",
       "    <tr>\n",
       "      <th>12</th>\n",
       "      <td>AlligatorShop</td>\n",
       "      <td>8</td>\n",
       "    </tr>\n",
       "    <tr>\n",
       "      <th>13</th>\n",
       "      <td>ChipArt</td>\n",
       "      <td>7</td>\n",
       "    </tr>\n",
       "  </tbody>\n",
       "</table>\n",
       "</div>"
      ],
      "text/plain": [
       "             Loja  Ocorrencias\n",
       "0          MagaLu          186\n",
       "1           Kabum          175\n",
       "2          Pichau          119\n",
       "3          Amazon          110\n",
       "4        Terabyte           90\n",
       "5       ITX Gamer           38\n",
       "6     GKInfoStore           32\n",
       "7       Imperiums           15\n",
       "8   GuerraDigital           12\n",
       "9        Patoloco           12\n",
       "10          FGTec           11\n",
       "11        Inpower            9\n",
       "12  AlligatorShop            8\n",
       "13        ChipArt            7"
      ]
     },
     "execution_count": 163,
     "metadata": {},
     "output_type": "execute_result"
    }
   ],
   "source": [
    "# Contando a quantidade de ocorrencias de cada loja que aparece de forma descrescente\n",
    "\n",
    "ocorrencias = df['Loja'].value_counts(ascending=False).reset_index()\n",
    "ocorrencias.columns = ['Loja', 'Ocorrencias']\n",
    "ocorrencias"
   ]
  },
  {
   "cell_type": "code",
   "execution_count": 164,
   "metadata": {},
   "outputs": [
    {
     "data": {
      "text/html": [
       "<div>\n",
       "<style scoped>\n",
       "    .dataframe tbody tr th:only-of-type {\n",
       "        vertical-align: middle;\n",
       "    }\n",
       "\n",
       "    .dataframe tbody tr th {\n",
       "        vertical-align: top;\n",
       "    }\n",
       "\n",
       "    .dataframe thead th {\n",
       "        text-align: right;\n",
       "    }\n",
       "</style>\n",
       "<table border=\"1\" class=\"dataframe\">\n",
       "  <thead>\n",
       "    <tr style=\"text-align: right;\">\n",
       "      <th></th>\n",
       "      <th>Loja</th>\n",
       "      <th>Ocorrencias</th>\n",
       "      <th>ValorAV</th>\n",
       "    </tr>\n",
       "  </thead>\n",
       "  <tbody>\n",
       "    <tr>\n",
       "      <th>0</th>\n",
       "      <td>MagaLu</td>\n",
       "      <td>186</td>\n",
       "      <td>5327.704462</td>\n",
       "    </tr>\n",
       "    <tr>\n",
       "      <th>1</th>\n",
       "      <td>Kabum</td>\n",
       "      <td>175</td>\n",
       "      <td>4517.229257</td>\n",
       "    </tr>\n",
       "    <tr>\n",
       "      <th>2</th>\n",
       "      <td>Pichau</td>\n",
       "      <td>119</td>\n",
       "      <td>4607.730000</td>\n",
       "    </tr>\n",
       "  </tbody>\n",
       "</table>\n",
       "</div>"
      ],
      "text/plain": [
       "     Loja  Ocorrencias      ValorAV\n",
       "0  MagaLu          186  5327.704462\n",
       "1   Kabum          175  4517.229257\n",
       "2  Pichau          119  4607.730000"
      ]
     },
     "execution_count": 164,
     "metadata": {},
     "output_type": "execute_result"
    }
   ],
   "source": [
    "# Adicionar a coluna ValorAV na variavel ocorrencias com a média dos preços\n",
    "ocorrencias = pd.merge(ocorrencias, df.groupby('Loja')['ValorAV'].mean().reset_index(), on='Loja', how='left')\n",
    "ocorrencias.head(3)"
   ]
  },
  {
   "cell_type": "code",
   "execution_count": 159,
   "metadata": {},
   "outputs": [
    {
     "data": {
      "application/vnd.plotly.v1+json": {
       "config": {
        "plotlyServerURL": "https://plot.ly"
       },
       "data": [
        {
         "type": "bar",
         "x": [
          "MagaLu",
          "Kabum",
          "Pichau"
         ],
         "y": [
          5327.704462365591,
          4517.229257142857,
          4607.73
         ]
        }
       ],
       "layout": {
        "template": {
         "data": {
          "bar": [
           {
            "error_x": {
             "color": "#f2f5fa"
            },
            "error_y": {
             "color": "#f2f5fa"
            },
            "marker": {
             "line": {
              "color": "rgb(17,17,17)",
              "width": 0.5
             },
             "pattern": {
              "fillmode": "overlay",
              "size": 10,
              "solidity": 0.2
             }
            },
            "type": "bar"
           }
          ],
          "barpolar": [
           {
            "marker": {
             "line": {
              "color": "rgb(17,17,17)",
              "width": 0.5
             },
             "pattern": {
              "fillmode": "overlay",
              "size": 10,
              "solidity": 0.2
             }
            },
            "type": "barpolar"
           }
          ],
          "carpet": [
           {
            "aaxis": {
             "endlinecolor": "#A2B1C6",
             "gridcolor": "#506784",
             "linecolor": "#506784",
             "minorgridcolor": "#506784",
             "startlinecolor": "#A2B1C6"
            },
            "baxis": {
             "endlinecolor": "#A2B1C6",
             "gridcolor": "#506784",
             "linecolor": "#506784",
             "minorgridcolor": "#506784",
             "startlinecolor": "#A2B1C6"
            },
            "type": "carpet"
           }
          ],
          "choropleth": [
           {
            "colorbar": {
             "outlinewidth": 0,
             "ticks": ""
            },
            "type": "choropleth"
           }
          ],
          "contour": [
           {
            "colorbar": {
             "outlinewidth": 0,
             "ticks": ""
            },
            "colorscale": [
             [
              0,
              "#0d0887"
             ],
             [
              0.1111111111111111,
              "#46039f"
             ],
             [
              0.2222222222222222,
              "#7201a8"
             ],
             [
              0.3333333333333333,
              "#9c179e"
             ],
             [
              0.4444444444444444,
              "#bd3786"
             ],
             [
              0.5555555555555556,
              "#d8576b"
             ],
             [
              0.6666666666666666,
              "#ed7953"
             ],
             [
              0.7777777777777778,
              "#fb9f3a"
             ],
             [
              0.8888888888888888,
              "#fdca26"
             ],
             [
              1,
              "#f0f921"
             ]
            ],
            "type": "contour"
           }
          ],
          "contourcarpet": [
           {
            "colorbar": {
             "outlinewidth": 0,
             "ticks": ""
            },
            "type": "contourcarpet"
           }
          ],
          "heatmap": [
           {
            "colorbar": {
             "outlinewidth": 0,
             "ticks": ""
            },
            "colorscale": [
             [
              0,
              "#0d0887"
             ],
             [
              0.1111111111111111,
              "#46039f"
             ],
             [
              0.2222222222222222,
              "#7201a8"
             ],
             [
              0.3333333333333333,
              "#9c179e"
             ],
             [
              0.4444444444444444,
              "#bd3786"
             ],
             [
              0.5555555555555556,
              "#d8576b"
             ],
             [
              0.6666666666666666,
              "#ed7953"
             ],
             [
              0.7777777777777778,
              "#fb9f3a"
             ],
             [
              0.8888888888888888,
              "#fdca26"
             ],
             [
              1,
              "#f0f921"
             ]
            ],
            "type": "heatmap"
           }
          ],
          "heatmapgl": [
           {
            "colorbar": {
             "outlinewidth": 0,
             "ticks": ""
            },
            "colorscale": [
             [
              0,
              "#0d0887"
             ],
             [
              0.1111111111111111,
              "#46039f"
             ],
             [
              0.2222222222222222,
              "#7201a8"
             ],
             [
              0.3333333333333333,
              "#9c179e"
             ],
             [
              0.4444444444444444,
              "#bd3786"
             ],
             [
              0.5555555555555556,
              "#d8576b"
             ],
             [
              0.6666666666666666,
              "#ed7953"
             ],
             [
              0.7777777777777778,
              "#fb9f3a"
             ],
             [
              0.8888888888888888,
              "#fdca26"
             ],
             [
              1,
              "#f0f921"
             ]
            ],
            "type": "heatmapgl"
           }
          ],
          "histogram": [
           {
            "marker": {
             "pattern": {
              "fillmode": "overlay",
              "size": 10,
              "solidity": 0.2
             }
            },
            "type": "histogram"
           }
          ],
          "histogram2d": [
           {
            "colorbar": {
             "outlinewidth": 0,
             "ticks": ""
            },
            "colorscale": [
             [
              0,
              "#0d0887"
             ],
             [
              0.1111111111111111,
              "#46039f"
             ],
             [
              0.2222222222222222,
              "#7201a8"
             ],
             [
              0.3333333333333333,
              "#9c179e"
             ],
             [
              0.4444444444444444,
              "#bd3786"
             ],
             [
              0.5555555555555556,
              "#d8576b"
             ],
             [
              0.6666666666666666,
              "#ed7953"
             ],
             [
              0.7777777777777778,
              "#fb9f3a"
             ],
             [
              0.8888888888888888,
              "#fdca26"
             ],
             [
              1,
              "#f0f921"
             ]
            ],
            "type": "histogram2d"
           }
          ],
          "histogram2dcontour": [
           {
            "colorbar": {
             "outlinewidth": 0,
             "ticks": ""
            },
            "colorscale": [
             [
              0,
              "#0d0887"
             ],
             [
              0.1111111111111111,
              "#46039f"
             ],
             [
              0.2222222222222222,
              "#7201a8"
             ],
             [
              0.3333333333333333,
              "#9c179e"
             ],
             [
              0.4444444444444444,
              "#bd3786"
             ],
             [
              0.5555555555555556,
              "#d8576b"
             ],
             [
              0.6666666666666666,
              "#ed7953"
             ],
             [
              0.7777777777777778,
              "#fb9f3a"
             ],
             [
              0.8888888888888888,
              "#fdca26"
             ],
             [
              1,
              "#f0f921"
             ]
            ],
            "type": "histogram2dcontour"
           }
          ],
          "mesh3d": [
           {
            "colorbar": {
             "outlinewidth": 0,
             "ticks": ""
            },
            "type": "mesh3d"
           }
          ],
          "parcoords": [
           {
            "line": {
             "colorbar": {
              "outlinewidth": 0,
              "ticks": ""
             }
            },
            "type": "parcoords"
           }
          ],
          "pie": [
           {
            "automargin": true,
            "type": "pie"
           }
          ],
          "scatter": [
           {
            "marker": {
             "line": {
              "color": "#283442"
             }
            },
            "type": "scatter"
           }
          ],
          "scatter3d": [
           {
            "line": {
             "colorbar": {
              "outlinewidth": 0,
              "ticks": ""
             }
            },
            "marker": {
             "colorbar": {
              "outlinewidth": 0,
              "ticks": ""
             }
            },
            "type": "scatter3d"
           }
          ],
          "scattercarpet": [
           {
            "marker": {
             "colorbar": {
              "outlinewidth": 0,
              "ticks": ""
             }
            },
            "type": "scattercarpet"
           }
          ],
          "scattergeo": [
           {
            "marker": {
             "colorbar": {
              "outlinewidth": 0,
              "ticks": ""
             }
            },
            "type": "scattergeo"
           }
          ],
          "scattergl": [
           {
            "marker": {
             "line": {
              "color": "#283442"
             }
            },
            "type": "scattergl"
           }
          ],
          "scattermapbox": [
           {
            "marker": {
             "colorbar": {
              "outlinewidth": 0,
              "ticks": ""
             }
            },
            "type": "scattermapbox"
           }
          ],
          "scatterpolar": [
           {
            "marker": {
             "colorbar": {
              "outlinewidth": 0,
              "ticks": ""
             }
            },
            "type": "scatterpolar"
           }
          ],
          "scatterpolargl": [
           {
            "marker": {
             "colorbar": {
              "outlinewidth": 0,
              "ticks": ""
             }
            },
            "type": "scatterpolargl"
           }
          ],
          "scatterternary": [
           {
            "marker": {
             "colorbar": {
              "outlinewidth": 0,
              "ticks": ""
             }
            },
            "type": "scatterternary"
           }
          ],
          "surface": [
           {
            "colorbar": {
             "outlinewidth": 0,
             "ticks": ""
            },
            "colorscale": [
             [
              0,
              "#0d0887"
             ],
             [
              0.1111111111111111,
              "#46039f"
             ],
             [
              0.2222222222222222,
              "#7201a8"
             ],
             [
              0.3333333333333333,
              "#9c179e"
             ],
             [
              0.4444444444444444,
              "#bd3786"
             ],
             [
              0.5555555555555556,
              "#d8576b"
             ],
             [
              0.6666666666666666,
              "#ed7953"
             ],
             [
              0.7777777777777778,
              "#fb9f3a"
             ],
             [
              0.8888888888888888,
              "#fdca26"
             ],
             [
              1,
              "#f0f921"
             ]
            ],
            "type": "surface"
           }
          ],
          "table": [
           {
            "cells": {
             "fill": {
              "color": "#506784"
             },
             "line": {
              "color": "rgb(17,17,17)"
             }
            },
            "header": {
             "fill": {
              "color": "#2a3f5f"
             },
             "line": {
              "color": "rgb(17,17,17)"
             }
            },
            "type": "table"
           }
          ]
         },
         "layout": {
          "annotationdefaults": {
           "arrowcolor": "#f2f5fa",
           "arrowhead": 0,
           "arrowwidth": 1
          },
          "autotypenumbers": "strict",
          "coloraxis": {
           "colorbar": {
            "outlinewidth": 0,
            "ticks": ""
           }
          },
          "colorscale": {
           "diverging": [
            [
             0,
             "#8e0152"
            ],
            [
             0.1,
             "#c51b7d"
            ],
            [
             0.2,
             "#de77ae"
            ],
            [
             0.3,
             "#f1b6da"
            ],
            [
             0.4,
             "#fde0ef"
            ],
            [
             0.5,
             "#f7f7f7"
            ],
            [
             0.6,
             "#e6f5d0"
            ],
            [
             0.7,
             "#b8e186"
            ],
            [
             0.8,
             "#7fbc41"
            ],
            [
             0.9,
             "#4d9221"
            ],
            [
             1,
             "#276419"
            ]
           ],
           "sequential": [
            [
             0,
             "#0d0887"
            ],
            [
             0.1111111111111111,
             "#46039f"
            ],
            [
             0.2222222222222222,
             "#7201a8"
            ],
            [
             0.3333333333333333,
             "#9c179e"
            ],
            [
             0.4444444444444444,
             "#bd3786"
            ],
            [
             0.5555555555555556,
             "#d8576b"
            ],
            [
             0.6666666666666666,
             "#ed7953"
            ],
            [
             0.7777777777777778,
             "#fb9f3a"
            ],
            [
             0.8888888888888888,
             "#fdca26"
            ],
            [
             1,
             "#f0f921"
            ]
           ],
           "sequentialminus": [
            [
             0,
             "#0d0887"
            ],
            [
             0.1111111111111111,
             "#46039f"
            ],
            [
             0.2222222222222222,
             "#7201a8"
            ],
            [
             0.3333333333333333,
             "#9c179e"
            ],
            [
             0.4444444444444444,
             "#bd3786"
            ],
            [
             0.5555555555555556,
             "#d8576b"
            ],
            [
             0.6666666666666666,
             "#ed7953"
            ],
            [
             0.7777777777777778,
             "#fb9f3a"
            ],
            [
             0.8888888888888888,
             "#fdca26"
            ],
            [
             1,
             "#f0f921"
            ]
           ]
          },
          "colorway": [
           "#636efa",
           "#EF553B",
           "#00cc96",
           "#ab63fa",
           "#FFA15A",
           "#19d3f3",
           "#FF6692",
           "#B6E880",
           "#FF97FF",
           "#FECB52"
          ],
          "font": {
           "color": "#f2f5fa"
          },
          "geo": {
           "bgcolor": "rgb(17,17,17)",
           "lakecolor": "rgb(17,17,17)",
           "landcolor": "rgb(17,17,17)",
           "showlakes": true,
           "showland": true,
           "subunitcolor": "#506784"
          },
          "hoverlabel": {
           "align": "left"
          },
          "hovermode": "closest",
          "mapbox": {
           "style": "dark"
          },
          "paper_bgcolor": "rgb(17,17,17)",
          "plot_bgcolor": "rgb(17,17,17)",
          "polar": {
           "angularaxis": {
            "gridcolor": "#506784",
            "linecolor": "#506784",
            "ticks": ""
           },
           "bgcolor": "rgb(17,17,17)",
           "radialaxis": {
            "gridcolor": "#506784",
            "linecolor": "#506784",
            "ticks": ""
           }
          },
          "scene": {
           "xaxis": {
            "backgroundcolor": "rgb(17,17,17)",
            "gridcolor": "#506784",
            "gridwidth": 2,
            "linecolor": "#506784",
            "showbackground": true,
            "ticks": "",
            "zerolinecolor": "#C8D4E3"
           },
           "yaxis": {
            "backgroundcolor": "rgb(17,17,17)",
            "gridcolor": "#506784",
            "gridwidth": 2,
            "linecolor": "#506784",
            "showbackground": true,
            "ticks": "",
            "zerolinecolor": "#C8D4E3"
           },
           "zaxis": {
            "backgroundcolor": "rgb(17,17,17)",
            "gridcolor": "#506784",
            "gridwidth": 2,
            "linecolor": "#506784",
            "showbackground": true,
            "ticks": "",
            "zerolinecolor": "#C8D4E3"
           }
          },
          "shapedefaults": {
           "line": {
            "color": "#f2f5fa"
           }
          },
          "sliderdefaults": {
           "bgcolor": "#C8D4E3",
           "bordercolor": "rgb(17,17,17)",
           "borderwidth": 1,
           "tickwidth": 0
          },
          "ternary": {
           "aaxis": {
            "gridcolor": "#506784",
            "linecolor": "#506784",
            "ticks": ""
           },
           "baxis": {
            "gridcolor": "#506784",
            "linecolor": "#506784",
            "ticks": ""
           },
           "bgcolor": "rgb(17,17,17)",
           "caxis": {
            "gridcolor": "#506784",
            "linecolor": "#506784",
            "ticks": ""
           }
          },
          "title": {
           "x": 0.05
          },
          "updatemenudefaults": {
           "bgcolor": "#506784",
           "borderwidth": 0
          },
          "xaxis": {
           "automargin": true,
           "gridcolor": "#283442",
           "linecolor": "#506784",
           "ticks": "",
           "title": {
            "standoff": 15
           },
           "zerolinecolor": "#283442",
           "zerolinewidth": 2
          },
          "yaxis": {
           "automargin": true,
           "gridcolor": "#283442",
           "linecolor": "#506784",
           "ticks": "",
           "title": {
            "standoff": 15
           },
           "zerolinecolor": "#283442",
           "zerolinewidth": 2
          }
         }
        },
        "title": {
         "text": "Ocorrências por Valor à Vista"
        },
        "xaxis": {
         "tickangle": -45,
         "title": {
          "text": "Lojas"
         }
        },
        "yaxis": {
         "title": {
          "text": "Ocorrências"
         }
        }
       }
      }
     },
     "metadata": {},
     "output_type": "display_data"
    }
   ],
   "source": [
    "# Criar um grafico utilizando o plotly e plotar o grafico da variavel ocorrencias\n",
    "fig = go.Figure(data=go.Bar(x=ocorrencias['Loja'].head(3), y=ocorrencias['ValorAV'].head(3)))\n",
    "\n",
    "# Personalizar o layout do gráfico\n",
    "fig.update_layout(\n",
    "title='Ocorrências por Valor à Vista',\n",
    "    xaxis_title='Lojas',\n",
    "    yaxis_title='Ocorrências',\n",
    "    xaxis_tickangle=-45,\n",
    "    template='plotly_dark'\n",
    ")\n",
    "\n",
    "fig.show()"
   ]
  },
  {
   "attachments": {},
   "cell_type": "markdown",
   "metadata": {},
   "source": [
    "## 5. Qual é o modelo de placa de vídeo mais comum no dataframe?"
   ]
  },
  {
   "cell_type": "code",
   "execution_count": 143,
   "metadata": {},
   "outputs": [
    {
     "data": {
      "text/plain": [
       "'RTX 4070Ti'"
      ]
     },
     "execution_count": 143,
     "metadata": {},
     "output_type": "execute_result"
    }
   ],
   "source": [
    "# Identificar o modelo de placa de vídeo mais comum\n",
    "modelo_mais_comum = df['ModeloSimplificado'].value_counts().idxmax()\n",
    "\n",
    "modelo_mais_comum\n"
   ]
  },
  {
   "attachments": {},
   "cell_type": "markdown",
   "metadata": {},
   "source": [
    "## 6. Quais são as lojas que oferecem os preços mais baixos para as placas de vídeo?"
   ]
  },
  {
   "cell_type": "code",
   "execution_count": 144,
   "metadata": {},
   "outputs": [
    {
     "data": {
      "application/vnd.plotly.v1+json": {
       "config": {
        "plotlyServerURL": "https://plot.ly"
       },
       "data": [
        {
         "type": "bar",
         "x": [
          "AlligatorShop",
          "GuerraDigital",
          "ChipArt",
          "Imperiums",
          "ITX Gamer",
          "Terabyte",
          "Kabum",
          "Inpower",
          "Patoloco",
          "Pichau",
          "FGTec",
          "MagaLu",
          "GKInfoStore",
          "Amazon"
         ],
         "y": [
          2587.51375,
          2597.4150000000004,
          2754.805714285714,
          3532.3226666666665,
          4168.823684210526,
          4457.177111111111,
          4517.229257142857,
          4518.200000000001,
          4523.615833333333,
          4607.73,
          4900.868181818182,
          5327.704462365591,
          5483.1428125,
          5874.290909090909
         ]
        }
       ],
       "layout": {
        "template": {
         "data": {
          "bar": [
           {
            "error_x": {
             "color": "#f2f5fa"
            },
            "error_y": {
             "color": "#f2f5fa"
            },
            "marker": {
             "line": {
              "color": "rgb(17,17,17)",
              "width": 0.5
             },
             "pattern": {
              "fillmode": "overlay",
              "size": 10,
              "solidity": 0.2
             }
            },
            "type": "bar"
           }
          ],
          "barpolar": [
           {
            "marker": {
             "line": {
              "color": "rgb(17,17,17)",
              "width": 0.5
             },
             "pattern": {
              "fillmode": "overlay",
              "size": 10,
              "solidity": 0.2
             }
            },
            "type": "barpolar"
           }
          ],
          "carpet": [
           {
            "aaxis": {
             "endlinecolor": "#A2B1C6",
             "gridcolor": "#506784",
             "linecolor": "#506784",
             "minorgridcolor": "#506784",
             "startlinecolor": "#A2B1C6"
            },
            "baxis": {
             "endlinecolor": "#A2B1C6",
             "gridcolor": "#506784",
             "linecolor": "#506784",
             "minorgridcolor": "#506784",
             "startlinecolor": "#A2B1C6"
            },
            "type": "carpet"
           }
          ],
          "choropleth": [
           {
            "colorbar": {
             "outlinewidth": 0,
             "ticks": ""
            },
            "type": "choropleth"
           }
          ],
          "contour": [
           {
            "colorbar": {
             "outlinewidth": 0,
             "ticks": ""
            },
            "colorscale": [
             [
              0,
              "#0d0887"
             ],
             [
              0.1111111111111111,
              "#46039f"
             ],
             [
              0.2222222222222222,
              "#7201a8"
             ],
             [
              0.3333333333333333,
              "#9c179e"
             ],
             [
              0.4444444444444444,
              "#bd3786"
             ],
             [
              0.5555555555555556,
              "#d8576b"
             ],
             [
              0.6666666666666666,
              "#ed7953"
             ],
             [
              0.7777777777777778,
              "#fb9f3a"
             ],
             [
              0.8888888888888888,
              "#fdca26"
             ],
             [
              1,
              "#f0f921"
             ]
            ],
            "type": "contour"
           }
          ],
          "contourcarpet": [
           {
            "colorbar": {
             "outlinewidth": 0,
             "ticks": ""
            },
            "type": "contourcarpet"
           }
          ],
          "heatmap": [
           {
            "colorbar": {
             "outlinewidth": 0,
             "ticks": ""
            },
            "colorscale": [
             [
              0,
              "#0d0887"
             ],
             [
              0.1111111111111111,
              "#46039f"
             ],
             [
              0.2222222222222222,
              "#7201a8"
             ],
             [
              0.3333333333333333,
              "#9c179e"
             ],
             [
              0.4444444444444444,
              "#bd3786"
             ],
             [
              0.5555555555555556,
              "#d8576b"
             ],
             [
              0.6666666666666666,
              "#ed7953"
             ],
             [
              0.7777777777777778,
              "#fb9f3a"
             ],
             [
              0.8888888888888888,
              "#fdca26"
             ],
             [
              1,
              "#f0f921"
             ]
            ],
            "type": "heatmap"
           }
          ],
          "heatmapgl": [
           {
            "colorbar": {
             "outlinewidth": 0,
             "ticks": ""
            },
            "colorscale": [
             [
              0,
              "#0d0887"
             ],
             [
              0.1111111111111111,
              "#46039f"
             ],
             [
              0.2222222222222222,
              "#7201a8"
             ],
             [
              0.3333333333333333,
              "#9c179e"
             ],
             [
              0.4444444444444444,
              "#bd3786"
             ],
             [
              0.5555555555555556,
              "#d8576b"
             ],
             [
              0.6666666666666666,
              "#ed7953"
             ],
             [
              0.7777777777777778,
              "#fb9f3a"
             ],
             [
              0.8888888888888888,
              "#fdca26"
             ],
             [
              1,
              "#f0f921"
             ]
            ],
            "type": "heatmapgl"
           }
          ],
          "histogram": [
           {
            "marker": {
             "pattern": {
              "fillmode": "overlay",
              "size": 10,
              "solidity": 0.2
             }
            },
            "type": "histogram"
           }
          ],
          "histogram2d": [
           {
            "colorbar": {
             "outlinewidth": 0,
             "ticks": ""
            },
            "colorscale": [
             [
              0,
              "#0d0887"
             ],
             [
              0.1111111111111111,
              "#46039f"
             ],
             [
              0.2222222222222222,
              "#7201a8"
             ],
             [
              0.3333333333333333,
              "#9c179e"
             ],
             [
              0.4444444444444444,
              "#bd3786"
             ],
             [
              0.5555555555555556,
              "#d8576b"
             ],
             [
              0.6666666666666666,
              "#ed7953"
             ],
             [
              0.7777777777777778,
              "#fb9f3a"
             ],
             [
              0.8888888888888888,
              "#fdca26"
             ],
             [
              1,
              "#f0f921"
             ]
            ],
            "type": "histogram2d"
           }
          ],
          "histogram2dcontour": [
           {
            "colorbar": {
             "outlinewidth": 0,
             "ticks": ""
            },
            "colorscale": [
             [
              0,
              "#0d0887"
             ],
             [
              0.1111111111111111,
              "#46039f"
             ],
             [
              0.2222222222222222,
              "#7201a8"
             ],
             [
              0.3333333333333333,
              "#9c179e"
             ],
             [
              0.4444444444444444,
              "#bd3786"
             ],
             [
              0.5555555555555556,
              "#d8576b"
             ],
             [
              0.6666666666666666,
              "#ed7953"
             ],
             [
              0.7777777777777778,
              "#fb9f3a"
             ],
             [
              0.8888888888888888,
              "#fdca26"
             ],
             [
              1,
              "#f0f921"
             ]
            ],
            "type": "histogram2dcontour"
           }
          ],
          "mesh3d": [
           {
            "colorbar": {
             "outlinewidth": 0,
             "ticks": ""
            },
            "type": "mesh3d"
           }
          ],
          "parcoords": [
           {
            "line": {
             "colorbar": {
              "outlinewidth": 0,
              "ticks": ""
             }
            },
            "type": "parcoords"
           }
          ],
          "pie": [
           {
            "automargin": true,
            "type": "pie"
           }
          ],
          "scatter": [
           {
            "marker": {
             "line": {
              "color": "#283442"
             }
            },
            "type": "scatter"
           }
          ],
          "scatter3d": [
           {
            "line": {
             "colorbar": {
              "outlinewidth": 0,
              "ticks": ""
             }
            },
            "marker": {
             "colorbar": {
              "outlinewidth": 0,
              "ticks": ""
             }
            },
            "type": "scatter3d"
           }
          ],
          "scattercarpet": [
           {
            "marker": {
             "colorbar": {
              "outlinewidth": 0,
              "ticks": ""
             }
            },
            "type": "scattercarpet"
           }
          ],
          "scattergeo": [
           {
            "marker": {
             "colorbar": {
              "outlinewidth": 0,
              "ticks": ""
             }
            },
            "type": "scattergeo"
           }
          ],
          "scattergl": [
           {
            "marker": {
             "line": {
              "color": "#283442"
             }
            },
            "type": "scattergl"
           }
          ],
          "scattermapbox": [
           {
            "marker": {
             "colorbar": {
              "outlinewidth": 0,
              "ticks": ""
             }
            },
            "type": "scattermapbox"
           }
          ],
          "scatterpolar": [
           {
            "marker": {
             "colorbar": {
              "outlinewidth": 0,
              "ticks": ""
             }
            },
            "type": "scatterpolar"
           }
          ],
          "scatterpolargl": [
           {
            "marker": {
             "colorbar": {
              "outlinewidth": 0,
              "ticks": ""
             }
            },
            "type": "scatterpolargl"
           }
          ],
          "scatterternary": [
           {
            "marker": {
             "colorbar": {
              "outlinewidth": 0,
              "ticks": ""
             }
            },
            "type": "scatterternary"
           }
          ],
          "surface": [
           {
            "colorbar": {
             "outlinewidth": 0,
             "ticks": ""
            },
            "colorscale": [
             [
              0,
              "#0d0887"
             ],
             [
              0.1111111111111111,
              "#46039f"
             ],
             [
              0.2222222222222222,
              "#7201a8"
             ],
             [
              0.3333333333333333,
              "#9c179e"
             ],
             [
              0.4444444444444444,
              "#bd3786"
             ],
             [
              0.5555555555555556,
              "#d8576b"
             ],
             [
              0.6666666666666666,
              "#ed7953"
             ],
             [
              0.7777777777777778,
              "#fb9f3a"
             ],
             [
              0.8888888888888888,
              "#fdca26"
             ],
             [
              1,
              "#f0f921"
             ]
            ],
            "type": "surface"
           }
          ],
          "table": [
           {
            "cells": {
             "fill": {
              "color": "#506784"
             },
             "line": {
              "color": "rgb(17,17,17)"
             }
            },
            "header": {
             "fill": {
              "color": "#2a3f5f"
             },
             "line": {
              "color": "rgb(17,17,17)"
             }
            },
            "type": "table"
           }
          ]
         },
         "layout": {
          "annotationdefaults": {
           "arrowcolor": "#f2f5fa",
           "arrowhead": 0,
           "arrowwidth": 1
          },
          "autotypenumbers": "strict",
          "coloraxis": {
           "colorbar": {
            "outlinewidth": 0,
            "ticks": ""
           }
          },
          "colorscale": {
           "diverging": [
            [
             0,
             "#8e0152"
            ],
            [
             0.1,
             "#c51b7d"
            ],
            [
             0.2,
             "#de77ae"
            ],
            [
             0.3,
             "#f1b6da"
            ],
            [
             0.4,
             "#fde0ef"
            ],
            [
             0.5,
             "#f7f7f7"
            ],
            [
             0.6,
             "#e6f5d0"
            ],
            [
             0.7,
             "#b8e186"
            ],
            [
             0.8,
             "#7fbc41"
            ],
            [
             0.9,
             "#4d9221"
            ],
            [
             1,
             "#276419"
            ]
           ],
           "sequential": [
            [
             0,
             "#0d0887"
            ],
            [
             0.1111111111111111,
             "#46039f"
            ],
            [
             0.2222222222222222,
             "#7201a8"
            ],
            [
             0.3333333333333333,
             "#9c179e"
            ],
            [
             0.4444444444444444,
             "#bd3786"
            ],
            [
             0.5555555555555556,
             "#d8576b"
            ],
            [
             0.6666666666666666,
             "#ed7953"
            ],
            [
             0.7777777777777778,
             "#fb9f3a"
            ],
            [
             0.8888888888888888,
             "#fdca26"
            ],
            [
             1,
             "#f0f921"
            ]
           ],
           "sequentialminus": [
            [
             0,
             "#0d0887"
            ],
            [
             0.1111111111111111,
             "#46039f"
            ],
            [
             0.2222222222222222,
             "#7201a8"
            ],
            [
             0.3333333333333333,
             "#9c179e"
            ],
            [
             0.4444444444444444,
             "#bd3786"
            ],
            [
             0.5555555555555556,
             "#d8576b"
            ],
            [
             0.6666666666666666,
             "#ed7953"
            ],
            [
             0.7777777777777778,
             "#fb9f3a"
            ],
            [
             0.8888888888888888,
             "#fdca26"
            ],
            [
             1,
             "#f0f921"
            ]
           ]
          },
          "colorway": [
           "#636efa",
           "#EF553B",
           "#00cc96",
           "#ab63fa",
           "#FFA15A",
           "#19d3f3",
           "#FF6692",
           "#B6E880",
           "#FF97FF",
           "#FECB52"
          ],
          "font": {
           "color": "#f2f5fa"
          },
          "geo": {
           "bgcolor": "rgb(17,17,17)",
           "lakecolor": "rgb(17,17,17)",
           "landcolor": "rgb(17,17,17)",
           "showlakes": true,
           "showland": true,
           "subunitcolor": "#506784"
          },
          "hoverlabel": {
           "align": "left"
          },
          "hovermode": "closest",
          "mapbox": {
           "style": "dark"
          },
          "paper_bgcolor": "rgb(17,17,17)",
          "plot_bgcolor": "rgb(17,17,17)",
          "polar": {
           "angularaxis": {
            "gridcolor": "#506784",
            "linecolor": "#506784",
            "ticks": ""
           },
           "bgcolor": "rgb(17,17,17)",
           "radialaxis": {
            "gridcolor": "#506784",
            "linecolor": "#506784",
            "ticks": ""
           }
          },
          "scene": {
           "xaxis": {
            "backgroundcolor": "rgb(17,17,17)",
            "gridcolor": "#506784",
            "gridwidth": 2,
            "linecolor": "#506784",
            "showbackground": true,
            "ticks": "",
            "zerolinecolor": "#C8D4E3"
           },
           "yaxis": {
            "backgroundcolor": "rgb(17,17,17)",
            "gridcolor": "#506784",
            "gridwidth": 2,
            "linecolor": "#506784",
            "showbackground": true,
            "ticks": "",
            "zerolinecolor": "#C8D4E3"
           },
           "zaxis": {
            "backgroundcolor": "rgb(17,17,17)",
            "gridcolor": "#506784",
            "gridwidth": 2,
            "linecolor": "#506784",
            "showbackground": true,
            "ticks": "",
            "zerolinecolor": "#C8D4E3"
           }
          },
          "shapedefaults": {
           "line": {
            "color": "#f2f5fa"
           }
          },
          "sliderdefaults": {
           "bgcolor": "#C8D4E3",
           "bordercolor": "rgb(17,17,17)",
           "borderwidth": 1,
           "tickwidth": 0
          },
          "ternary": {
           "aaxis": {
            "gridcolor": "#506784",
            "linecolor": "#506784",
            "ticks": ""
           },
           "baxis": {
            "gridcolor": "#506784",
            "linecolor": "#506784",
            "ticks": ""
           },
           "bgcolor": "rgb(17,17,17)",
           "caxis": {
            "gridcolor": "#506784",
            "linecolor": "#506784",
            "ticks": ""
           }
          },
          "title": {
           "x": 0.05
          },
          "updatemenudefaults": {
           "bgcolor": "#506784",
           "borderwidth": 0
          },
          "xaxis": {
           "automargin": true,
           "gridcolor": "#283442",
           "linecolor": "#506784",
           "ticks": "",
           "title": {
            "standoff": 15
           },
           "zerolinecolor": "#283442",
           "zerolinewidth": 2
          },
          "yaxis": {
           "automargin": true,
           "gridcolor": "#283442",
           "linecolor": "#506784",
           "ticks": "",
           "title": {
            "standoff": 15
           },
           "zerolinecolor": "#283442",
           "zerolinewidth": 2
          }
         }
        },
        "title": {
         "text": "Preço Médio das Placas de Vídeo por Loja (Mais Baixos)"
        },
        "xaxis": {
         "tickangle": -45,
         "title": {
          "text": "Lojas"
         }
        },
        "yaxis": {
         "title": {
          "text": "Preço Médio"
         }
        }
       }
      }
     },
     "metadata": {},
     "output_type": "display_data"
    }
   ],
   "source": [
    "media_precos_loja = df.groupby('Loja')['ValorAV'].mean()\n",
    "media_precos_loja = media_precos_loja.sort_values()\n",
    "\n",
    "fig = go.Figure(data=go.Bar(x=media_precos_loja.index, y=media_precos_loja.values))\n",
    "\n",
    "fig.update_layout(\n",
    "title='Preço Médio das Placas de Vídeo por Loja (Mais Baixos)',\n",
    "    xaxis_title='Lojas',\n",
    "    yaxis_title='Preço Médio',\n",
    "    xaxis_tickangle=-45,\n",
    "    template='plotly_dark'\n",
    ")\n",
    "\n",
    "fig.show()\n"
   ]
  }
 ],
 "metadata": {
  "kernelspec": {
   "display_name": "Python 3",
   "language": "python",
   "name": "python3"
  },
  "language_info": {
   "codemirror_mode": {
    "name": "ipython",
    "version": 3
   },
   "file_extension": ".py",
   "mimetype": "text/x-python",
   "name": "python",
   "nbconvert_exporter": "python",
   "pygments_lexer": "ipython3",
   "version": "3.10.1"
  },
  "orig_nbformat": 4
 },
 "nbformat": 4,
 "nbformat_minor": 2
}
